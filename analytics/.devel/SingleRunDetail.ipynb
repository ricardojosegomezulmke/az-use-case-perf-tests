{
 "cells": [
  {
   "cell_type": "code",
   "execution_count": null,
   "metadata": {},
   "outputs": [],
   "source": [
    "from lib import run_definition\n",
    "from lib import run_result_location\n",
    "from lib import constants\n",
    "from lib import run\n",
    "from lib import run_analytics\n",
    "import pandas as pd\n",
    "import matplotlib.pyplot as plt\n",
    "import seaborn as sns\n",
    "import plotly.express as px\n",
    "import plotly.graph_objects as go\n",
    "\n",
    "\n",
    "%matplotlib inline\n",
    "#global defaults of graphics size\n",
    "plt.rcParams[\"figure.figsize\"] = [50, 50]\n",
    "\n",
    "#Define run_id\n",
    "#run_id = \"2020-10-23-15-59-41\"\n",
    "run_id = \"2020-11-02-18-36-10\"\n",
    "\n",
    "#point to test result folder containing runs\n",
    "#location = perfmodel.RunResultL ocation(\"../testresults/azure.1-auto-standalone\")\n",
    "location = run_result_location.RunResultLocation(\"../testresults/aws.1-auto-standalone\")\n",
    "\n",
    "runDefinition = run_definition.RunDefinition(location)\n",
    "runDefinition.process_run_samples()\n",
    "run = runDefinition.find_run(run_id)\n",
    "run_analytics = run_analytics.RunAnalytics(run)\n",
    "meta = run.run_meta\n",
    "df_ping = pd.DataFrame(run.export_ping_series(constants.c_ping_all_metrics))\n"
   ]
  },
  {
   "cell_type": "code",
   "execution_count": null,
   "outputs": [],
   "source": [
    "# Overview of Broker and Latency-Node Latencies\n",
    "# To render both categories in one bar-plot it is best to use just standard Python data structures\n",
    "# box_data is a dict with 'metrics':list(string): the metrics labels/names\n",
    "#                         'latency-node':list(float) : the calculated metrics in the order of metric-labels\n",
    "#                         'broker-node':list(float) : the calculated metrics in the order of metric-labels\n",
    "#\n",
    "bar_data = run_analytics.export_combined_all_distinct_latencies_metrics()\n",
    "\n",
    "#not using plotly express\n",
    "#utilising basic plotly constructs\n",
    "bar_fig = go.Figure(\n",
    "    data =[\n",
    "        go.Bar(\n",
    "            name=\"Latency Node\",\n",
    "            x=bar_data['metrics'],\n",
    "            y=bar_data['latency-node'],\n",
    "            offsetgroup=0\n",
    "        ),\n",
    "        go.Bar(\n",
    "            name=\"Broker Node\",\n",
    "            x=bar_data['metrics'],\n",
    "            y=bar_data['broker-node'],\n",
    "            offsetgroup=1\n",
    "        )\n",
    "    ],\n",
    "    layout=go.Layout(\n",
    "        title=\"Broker-Node and Latency-Node: Latency Metrics\",\n",
    "        yaxis_title=\"latency [microns]\"\n",
    "    )\n",
    ")\n",
    "bar_fig.show()\n"
   ],
   "metadata": {
    "collapsed": false,
    "pycharm": {
     "name": "#%%\n"
    }
   }
  },
  {
   "cell_type": "markdown",
   "source": [
    "# Latency Nodes"
   ],
   "metadata": {
    "collapsed": false,
    "pycharm": {
     "name": "#%% md\n"
    }
   }
  },
  {
   "cell_type": "code",
   "execution_count": null,
   "outputs": [],
   "source": [
    "df_ln_latencies_series = run_analytics.export_latency_node_series_latencies_metrics_as_dataframe()\n",
    "#df_ln_latencies_series"
   ],
   "metadata": {
    "collapsed": false,
    "pycharm": {
     "name": "#%%\n"
    }
   }
  },
  {
   "cell_type": "code",
   "execution_count": null,
   "outputs": [],
   "source": [
    "fig_ln_line = px.line(df_ln_latencies_series,\n",
    "                   title=\"Latency Percentiles Latency Node\",\n",
    "                   width=800, height=800,\n",
    "                   labels={\"value\":\"latency [micros]\", \"index\":\"sample [number]\"})\n",
    "fig_ln_line.show()\n",
    "\n"
   ],
   "metadata": {
    "collapsed": false,
    "pycharm": {
     "name": "#%%\n"
    }
   }
  },
  {
   "cell_type": "code",
   "execution_count": null,
   "outputs": [],
   "source": [
    "fig_ln_box = px.box(df_ln_latencies_series,\n",
    "                                    title=\"Latency Percentiles Latency Node\",\n",
    "                                    width=800, height=800,\n",
    "                                    labels={\"value\":\"latency [micros]\", \"variable\":\"sample [number]\"})\n",
    "fig_ln_box.show()"
   ],
   "metadata": {
    "collapsed": false,
    "pycharm": {
     "name": "#%%\n"
    }
   }
  },
  {
   "cell_type": "code",
   "execution_count": null,
   "outputs": [],
   "source": [
    "df_ln_latencies = pd.DataFrame(data={'run': run.export_latency_node_distinct_latencies()})\n",
    "\n",
    "fig_ln_latencies_box = px.box(df_ln_latencies,\n",
    "                                    title=\"Latencies Latency Node\",\n",
    "                                    width=800, height=800,\n",
    "                                    labels={\"value\":\"latency [micros]\", \"variable\":\"run\"})\n",
    "fig_ln_latencies_box.show()"
   ],
   "metadata": {
    "collapsed": false,
    "pycharm": {
     "name": "#%%\n"
    }
   }
  },
  {
   "cell_type": "code",
   "execution_count": null,
   "outputs": [],
   "source": [
    "#fig_ln_latencies_line = px.line(df_ln_latencies,\n",
    "#                                    title=\"Latencies Latency Node\",\n",
    "#                                    width=800, height=800,\n",
    "#                                    labels={\"value\":\"latency [micros]\", \"variable\":\"run\"})\n",
    "#fig_ln_latencies_line.show()\n",
    "\n",
    "df_ln_delta_index = pd.DataFrame(data={'delta_index':run.export_latency_node_delta_index_latencies(lambda latency: latency > 1000)})\n",
    "df_ln_delta_index"
   ],
   "metadata": {
    "collapsed": false,
    "pycharm": {
     "name": "#%%\n"
    }
   }
  },
  {
   "cell_type": "code",
   "execution_count": null,
   "outputs": [],
   "source": [
    "data_ln_series = run.export_latency_node_series_length_latencies(lambda latency: latency > 1000)\n",
    "\n",
    "fig_ln_lat_series_box = px.box(data_ln_series['series_length'],\n",
    "                                    title=\"Series Length\",\n",
    "                                    width=800, height=800,\n",
    "                                    labels={\"value\":\"length [ticks]\", \"variable\":\"series\"})\n",
    "fig_ln_lat_series_box.show()\n"
   ],
   "metadata": {
    "collapsed": false,
    "pycharm": {
     "name": "#%%\n"
    }
   }
  },
  {
   "cell_type": "code",
   "execution_count": null,
   "outputs": [],
   "source": [
    "fig_ln_lat_gap_box = px.box(data_ln_series['gap_length'],\n",
    "                                    title=\"Gab length between series\",\n",
    "                                    width=800, height=800,\n",
    "                                    labels={\"value\":\"length [ticks]\", \"variable\":\"series\"})\n",
    "fig_ln_lat_gap_box.show()"
   ],
   "metadata": {
    "collapsed": false,
    "pycharm": {
     "name": "#%%\n"
    }
   }
  },
  {
   "cell_type": "code",
   "execution_count": null,
   "outputs": [],
   "source": [],
   "metadata": {
    "collapsed": false,
    "pycharm": {
     "name": "#%%\n"
    }
   }
  },
  {
   "cell_type": "code",
   "execution_count": null,
   "outputs": [],
   "source": [],
   "metadata": {
    "collapsed": false,
    "pycharm": {
     "name": "#%%\n"
    }
   }
  },
  {
   "cell_type": "code",
   "execution_count": null,
   "outputs": [],
   "source": [],
   "metadata": {
    "collapsed": false,
    "pycharm": {
     "name": "#%%\n"
    }
   }
  }
 ],
 "metadata": {
  "kernelspec": {
   "display_name": "Python 3",
   "language": "python",
   "name": "python3"
  },
  "language_info": {
   "codemirror_mode": {
    "name": "ipython",
    "version": 3
   },
   "file_extension": ".py",
   "mimetype": "text/x-python",
   "name": "python",
   "nbconvert_exporter": "python",
   "pygments_lexer": "ipython3",
   "version": "3.8.5-final"
  }
 },
 "nbformat": 4,
 "nbformat_minor": 4
}