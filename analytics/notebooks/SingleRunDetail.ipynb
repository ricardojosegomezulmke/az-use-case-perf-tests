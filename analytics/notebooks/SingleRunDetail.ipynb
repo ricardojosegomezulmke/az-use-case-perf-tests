{
 "cells": [
  {
   "cell_type": "code",
   "execution_count": 2,
   "metadata": {},
   "outputs": [
    {
     "ename": "ImportError",
     "evalue": "attempted relative import with no known parent package",
     "output_type": "error",
     "traceback": [
      "\u001B[0;31m---------------------------------------------------------------------------\u001B[0m",
      "\u001B[0;31mImportError\u001B[0m                               Traceback (most recent call last)",
      "\u001B[0;32m<ipython-input-2-e345c0f3a411>\u001B[0m in \u001B[0;36m<module>\u001B[0;34m\u001B[0m\n\u001B[1;32m      4\u001B[0m \u001B[0msys\u001B[0m\u001B[0;34m.\u001B[0m\u001B[0mpath\u001B[0m\u001B[0;34m.\u001B[0m\u001B[0minsert\u001B[0m\u001B[0;34m(\u001B[0m\u001B[0;36m0\u001B[0m\u001B[0;34m,\u001B[0m \u001B[0mos\u001B[0m\u001B[0;34m.\u001B[0m\u001B[0mpath\u001B[0m\u001B[0;34m.\u001B[0m\u001B[0mabspath\u001B[0m\u001B[0;34m(\u001B[0m\u001B[0;34m'./lib'\u001B[0m\u001B[0;34m)\u001B[0m\u001B[0;34m)\u001B[0m\u001B[0;34m\u001B[0m\u001B[0;34m\u001B[0m\u001B[0m\n\u001B[1;32m      5\u001B[0m \u001B[0;34m\u001B[0m\u001B[0m\n\u001B[0;32m----> 6\u001B[0;31m \u001B[0;32mfrom\u001B[0m \u001B[0;34m.\u001B[0m\u001B[0mlib\u001B[0m\u001B[0;34m.\u001B[0m\u001B[0mperfmodel\u001B[0m\u001B[0;34m.\u001B[0m\u001B[0mrun_definition\u001B[0m \u001B[0;32mimport\u001B[0m \u001B[0mRunDefinition\u001B[0m\u001B[0;34m\u001B[0m\u001B[0;34m\u001B[0m\u001B[0m\n\u001B[0m\u001B[1;32m      7\u001B[0m \u001B[0;32mfrom\u001B[0m \u001B[0;34m.\u001B[0m\u001B[0mlib\u001B[0m\u001B[0;34m.\u001B[0m\u001B[0mperfmodel\u001B[0m\u001B[0;34m.\u001B[0m\u001B[0mrun_resolut_location\u001B[0m \u001B[0;32mimport\u001B[0m \u001B[0mRunResultLocation\u001B[0m\u001B[0;34m\u001B[0m\u001B[0;34m\u001B[0m\u001B[0m\n\u001B[1;32m      8\u001B[0m \u001B[0;32mfrom\u001B[0m \u001B[0;34m.\u001B[0m\u001B[0mlib\u001B[0m\u001B[0;34m.\u001B[0m\u001B[0mperfmodel\u001B[0m\u001B[0;34m.\u001B[0m\u001B[0mconstants\u001B[0m \u001B[0;32mimport\u001B[0m \u001B[0;34m*\u001B[0m\u001B[0;34m\u001B[0m\u001B[0;34m\u001B[0m\u001B[0m\n",
      "\u001B[0;31mImportError\u001B[0m: attempted relative import with no known parent package"
     ]
    }
   ],
   "source": [
    "from lib.run_definition import RunDefinition\n",
    "from lib.perfmodel.run_resolut_location import RunResultLocation\n",
    "from lib.perfmodel.constants import *\n",
    "\n",
    "from os import path\n",
    "import json\n",
    "import glob\n",
    "import numpy as np\n",
    "import pandas as pd\n",
    "from jsonpath_ng import jsonpath, parse\n",
    "import matplotlib.pyplot as plt\n",
    "import seaborn as sns\n",
    "import plotly.express as px\n",
    "import plotly.graph_objects as go\n",
    "\n",
    "\n",
    "%matplotlib inline\n",
    "#global defaults of graphics size\n",
    "plt.rcParams[\"figure.figsize\"] = [50, 50]\n",
    "\n",
    "#Define run_id\n",
    "#run_id = \"2020-10-23-15-59-41\"\n",
    "run_id = \"2020-10-23-16-10-36\"\n",
    "\n",
    "#point to test result folder containing runs\n",
    "#location = perfmodel.RunResultLocation(\"../testresults/azure.1-auto-standalone\")\n",
    "location = RunResultLocation(\"../testresults/aws.1-auto-standalone\")\n",
    "\n",
    "runDefinition = RunDefinition(location)\n",
    "runDefinition.process_run_samples()\n",
    "run = runDefinition.find_run(run_id)\n",
    "meta = run.run_meta\n",
    "df_latencies = pd.DataFrame(data={'run1': run.export_latency_node_distinct_latencies()})\n",
    "df_broker_latencies = pd.DataFrame(data={'run1': run.export_broker_node_distinct_latencies()})\n",
    "df_ping = pd.DataFrame(run.export_ping_series(c_ping_all_metrics))"
   ]
  },
  {
   "cell_type": "markdown",
   "metadata": {
    "pycharm": {
     "name": "#%% md\n"
    },
    "variables": {
     "meta.cloud_provider": {},
     "meta.infrastructure": {},
     "meta.run_duration_sec()": {},
     "meta.run_id": {},
     "meta.run_name": {},
     "meta.ts_run_end": {},
     "meta.ts_run_start": {}
    }
   },
   "source": [
    "## Single Detailed Run Analytics\n",
    "\n",
    "CONFIDENTIAL | NOT FOR DISTRIBUTION | DATA NOT VALIDATED\n",
    "\n",
    "Cloudprovider: {{meta.cloud_provider}}\n",
    "\n",
    "Infrastructure: {{meta.infrastructure}}\n",
    "\n",
    "Run name: {{meta.run_name}}\n",
    "\n",
    "Run Id: {{meta.run_id}}\n",
    "\n",
    "Started: {{meta.ts_run_start}}\n",
    "\n",
    "Ended: {{meta.ts_run_end}}\n",
    "\n",
    "Duration: {{meta.run_duration_sec()}}\n"
   ]
  },
  {
   "cell_type": "markdown",
   "metadata": {
    "pycharm": {
     "name": "#%% md\n"
    }
   },
   "source": [
    "# Key Metrics\n",
    "\n",
    "### Latency Node Basic Stats"
   ]
  },
  {
   "cell_type": "code",
   "execution_count": null,
   "metadata": {
    "pycharm": {
     "name": "#%%\n"
    }
   },
   "outputs": [],
   "source": [
    "run1_series = df_latencies['run1']\n",
    "run1_series.describe()"
   ]
  },
  {
   "cell_type": "markdown",
   "source": [
    "### Broker Node Basic Stats"
   ],
   "metadata": {
    "collapsed": false,
    "pycharm": {
     "name": "#%% md\n"
    }
   }
  },
  {
   "cell_type": "code",
   "execution_count": null,
   "outputs": [],
   "source": [
    "broker_run1_series = df_broker_latencies['run1']\n",
    "broker_run1_series.describe()"
   ],
   "metadata": {
    "collapsed": false,
    "pycharm": {
     "name": "#%%\n"
    }
   }
  },
  {
   "cell_type": "markdown",
   "metadata": {
    "pycharm": {
     "name": "#%% md\n"
    }
   },
   "source": [
    "### Latency Node Quantiles"
   ]
  },
  {
   "cell_type": "code",
   "execution_count": null,
   "metadata": {
    "pycharm": {
     "name": "#%%\n"
    }
   },
   "outputs": [],
   "source": [
    "q1 = run1_series.quantile(q=[0.05,0.1,0.25,0.5,0.75,0.9,0.99,0.995,0.999,0.9999,0.99995,0.99999])\n",
    "q1"
   ]
  },
  {
   "cell_type": "markdown",
   "source": [
    "### Broker Node Quantiles"
   ],
   "metadata": {
    "collapsed": false,
    "pycharm": {
     "name": "#%% md\n"
    }
   }
  },
  {
   "cell_type": "code",
   "execution_count": null,
   "outputs": [],
   "source": [
    "broker_q1 = broker_run1_series.quantile(q=[0.05,0.1,0.25,0.5,0.75,0.9,0.99,0.995,0.999,0.9999,0.99995,0.99999])\n",
    "broker_q1\n",
    "\n",
    "\n",
    "\n",
    "\n"
   ],
   "metadata": {
    "collapsed": false,
    "pycharm": {
     "name": "#%%\n"
    }
   }
  },
  {
   "cell_type": "code",
   "execution_count": null,
   "outputs": [],
   "source": [
    "plt.figure(figsize=(25,15))\n",
    "sns.displot(data=df_latencies)"
   ],
   "metadata": {
    "collapsed": false,
    "pycharm": {
     "name": "#%%\n"
    }
   }
  },
  {
   "cell_type": "code",
   "execution_count": null,
   "outputs": [],
   "source": [
    "plt.figure(figsize=(25,15))\n",
    "sns.displot(data=df_broker_latencies)\n"
   ],
   "metadata": {
    "collapsed": false,
    "pycharm": {
     "name": "#%%\n"
    }
   }
  },
  {
   "cell_type": "markdown",
   "source": [
    "## DELTA Series"
   ],
   "metadata": {
    "collapsed": false,
    "pycharm": {
     "name": "#%% md\n"
    }
   }
  },
  {
   "cell_type": "markdown",
   "source": [],
   "metadata": {
    "collapsed": false,
    "pycharm": {
     "name": "#%% md\n"
    }
   }
  },
  {
   "cell_type": "code",
   "execution_count": null,
   "outputs": [],
   "source": [
    "delta_index_latencies = run.export_latency_node_delta_index_latencies(lambda latency: latency >= q1.get(0.99))\n",
    "df_delta_index_latencies = pd.DataFrame(data={\"delta\":delta_index_latencies})\n",
    "df_delta_index_latencies['delta'].describe()"
   ],
   "metadata": {
    "collapsed": false,
    "pycharm": {
     "name": "#%%\n"
    }
   }
  },
  {
   "cell_type": "code",
   "execution_count": null,
   "outputs": [],
   "source": [
    "plt.figure(figsize=(25,15))\n",
    "sns.displot(data=df_delta_index_latencies)"
   ],
   "metadata": {
    "collapsed": false,
    "pycharm": {
     "name": "#%%\n"
    }
   }
  },
  {
   "cell_type": "code",
   "execution_count": null,
   "outputs": [],
   "source": [
    "lat_series_length = run.export_latency_node_series_length_latencies(lambda latency: latency >= q1.get(0.99))\n",
    "s = lat_series_length[k_latency_series_length]\n",
    "g = lat_series_length[k_latency_gap_length]\n",
    "df_series_length = pd.DataFrame(data={\"series_length\": s})\n",
    "df_series_length = pd.DataFrame(data={\"gap_length\": g})\n",
    "df_series_length"
   ],
   "metadata": {
    "collapsed": false,
    "pycharm": {
     "name": "#%%\n"
    }
   }
  },
  {
   "cell_type": "code",
   "execution_count": null,
   "outputs": [],
   "source": [],
   "metadata": {
    "collapsed": false,
    "pycharm": {
     "name": "#%%\n"
    }
   }
  }
 ],
 "metadata": {
  "kernelspec": {
   "display_name": "Python 3",
   "language": "python",
   "name": "python3"
  },
  "language_info": {
   "codemirror_mode": {
    "name": "ipython",
    "version": 3
   },
   "file_extension": ".py",
   "mimetype": "text/x-python",
   "name": "python",
   "nbconvert_exporter": "python",
   "pygments_lexer": "ipython3",
   "version": "3.8.5"
  }
 },
 "nbformat": 4,
 "nbformat_minor": 4
}