{
 "cells": [
  {
   "cell_type": "code",
   "execution_count": 1,
   "metadata": {},
   "outputs": [],
   "source": [
    "from lib import run_definition\n",
    "from lib import run_result_location\n",
    "from lib import constants\n",
    "from lib import run\n",
    "from os import path\n",
    "import json\n",
    "import glob\n",
    "import numpy as np\n",
    "import pandas as pd\n",
    "from jsonpath_ng import jsonpath, parse\n",
    "import matplotlib.pyplot as plt\n",
    "import seaborn as sns\n",
    "import plotly.express as px\n",
    "import plotly.graph_objects as go\n",
    "\n",
    "\n",
    "%matplotlib inline\n",
    "#global defaults of graphics size\n",
    "plt.rcParams[\"figure.figsize\"] = [50, 50]\n",
    "\n",
    "#Define run_id\n",
    "#run_id = \"2020-10-23-15-59-41\"\n",
    "run_id = \"2020-11-02-18-36-10\"\n",
    "\n",
    "#point to test result folder containing runs\n",
    "#location = perfmodel.RunResultLocation(\"../testresults/azure.1-auto-standalone\")\n",
    "location = run_result_location.RunResultLocation(\"../testresults/aws.1-auto-standalone\")\n",
    "\n",
    "runDefinition = run_definition.RunDefinition(location)\n",
    "runDefinition.process_run_samples()\n",
    "run = runDefinition.find_run(run_id)\n",
    "meta = run.run_meta\n",
    "df_latencies = pd.DataFrame(data={'run1': run.export_latency_node_distinct_latencies()})\n",
    "df_broker_latencies = pd.DataFrame(data={'run1': run.export_broker_node_distinct_latencies()})\n",
    "df_ping = pd.DataFrame(run.export_ping_series(constants.c_ping_all_metrics))"
   ]
  },
  {
   "cell_type": "markdown",
   "metadata": {
    "pycharm": {
     "name": "#%% md\n"
    },
    "variables": {
     "meta.cloud_provider": {},
     "meta.infrastructure": {},
     "meta.run_duration_sec()": {},
     "meta.run_id": {},
     "meta.run_name": {},
     "meta.ts_run_end": {},
     "meta.ts_run_start": {}
    }
   },
   "source": [
    "## Single Detailed Run Analytics\n",
    "\n",
    "CONFIDENTIAL | NOT FOR DISTRIBUTION | DATA NOT VALIDATED\n",
    "\n",
    "Cloudprovider: {{meta.cloud_provider}}\n",
    "\n",
    "Infrastructure: {{meta.infrastructure}}\n",
    "\n",
    "Run name: {{meta.run_name}}\n",
    "\n",
    "Run Id: {{meta.run_id}}\n",
    "\n",
    "Started: {{meta.ts_run_start}}\n",
    "\n",
    "Ended: {{meta.ts_run_end}}\n",
    "\n",
    "Duration: {{meta.run_duration_sec()}}\n"
   ]
  },
  {
   "cell_type": "code",
   "execution_count": 2,
   "outputs": [
    {
     "data": {
      "text/plain": "sample_num\n0     894\n1    1780\n2     781\n3    2281\n4     825\n5    7521\n6     690\n7    1257\n8     728\n9     779\nName: latency, dtype: int32"
     },
     "execution_count": 2,
     "metadata": {},
     "output_type": "execute_result"
    }
   ],
   "source": [
    "df_lat_series = pd.DataFrame(data=run.export_latency_node_series_latencies(False))\n",
    "df_lat_series\n",
    "df_lat_series.groupby('sample_num').latency.mean()\n",
    "df_lat_series.groupby('sample_num').latency.min()\n",
    "df_lat_series.groupby('sample_num').latency.max()"
   ],
   "metadata": {
    "collapsed": false,
    "pycharm": {
     "name": "#%%\n"
    }
   }
  },
  {
   "cell_type": "code",
   "execution_count": 3,
   "outputs": [
    {
     "data": {
      "text/plain": "       sample_num       latency\ncount     40000.0  40000.000000\nmean          0.0    265.876300\nstd           0.0     36.716861\nmin           0.0    172.000000\n25%           0.0    244.000000\n50%           0.0    253.000000\n75%           0.0    277.000000\nmax           0.0    894.000000",
      "text/html": "<div>\n<style scoped>\n    .dataframe tbody tr th:only-of-type {\n        vertical-align: middle;\n    }\n\n    .dataframe tbody tr th {\n        vertical-align: top;\n    }\n\n    .dataframe thead th {\n        text-align: right;\n    }\n</style>\n<table border=\"1\" class=\"dataframe\">\n  <thead>\n    <tr style=\"text-align: right;\">\n      <th></th>\n      <th>sample_num</th>\n      <th>latency</th>\n    </tr>\n  </thead>\n  <tbody>\n    <tr>\n      <th>count</th>\n      <td>40000.0</td>\n      <td>40000.000000</td>\n    </tr>\n    <tr>\n      <th>mean</th>\n      <td>0.0</td>\n      <td>265.876300</td>\n    </tr>\n    <tr>\n      <th>std</th>\n      <td>0.0</td>\n      <td>36.716861</td>\n    </tr>\n    <tr>\n      <th>min</th>\n      <td>0.0</td>\n      <td>172.000000</td>\n    </tr>\n    <tr>\n      <th>25%</th>\n      <td>0.0</td>\n      <td>244.000000</td>\n    </tr>\n    <tr>\n      <th>50%</th>\n      <td>0.0</td>\n      <td>253.000000</td>\n    </tr>\n    <tr>\n      <th>75%</th>\n      <td>0.0</td>\n      <td>277.000000</td>\n    </tr>\n    <tr>\n      <th>max</th>\n      <td>0.0</td>\n      <td>894.000000</td>\n    </tr>\n  </tbody>\n</table>\n</div>"
     },
     "execution_count": 3,
     "metadata": {},
     "output_type": "execute_result"
    }
   ],
   "source": [
    "df_x = df_lat_series.loc[df_lat_series.sample_num == 0, :]\n",
    "df_x.describe()"
   ],
   "metadata": {
    "collapsed": false,
    "pycharm": {
     "name": "#%%\n"
    }
   }
  },
  {
   "cell_type": "markdown",
   "metadata": {
    "pycharm": {
     "name": "#%% md\n"
    }
   },
   "source": [
    "# Key Metrics\n",
    "\n",
    "### Latency Node Basic Stats"
   ]
  },
  {
   "cell_type": "code",
   "execution_count": 4,
   "metadata": {
    "pycharm": {
     "name": "#%%\n"
    }
   },
   "outputs": [
    {
     "data": {
      "text/plain": "count    400000.000000\nmean        262.294490\nstd          69.525769\nmin         126.000000\n25%         221.000000\n50%         239.000000\n75%         280.000000\nmax        7521.000000\nName: run1, dtype: float64"
     },
     "execution_count": 4,
     "metadata": {},
     "output_type": "execute_result"
    }
   ],
   "source": [
    "run1_series = df_latencies['run1']\n",
    "run1_series.describe()"
   ]
  },
  {
   "cell_type": "markdown",
   "source": [
    "### Broker Node Basic Stats"
   ],
   "metadata": {
    "collapsed": false,
    "pycharm": {
     "name": "#%% md\n"
    }
   }
  },
  {
   "cell_type": "code",
   "execution_count": 5,
   "outputs": [
    {
     "data": {
      "text/plain": "count    400000.000000\nmean        243.062467\nstd          62.408386\nmin         102.000000\n25%         206.000000\n50%         224.000000\n75%         258.000000\nmax        1599.000000\nName: run1, dtype: float64"
     },
     "execution_count": 5,
     "metadata": {},
     "output_type": "execute_result"
    }
   ],
   "source": [
    "broker_run1_series = df_broker_latencies['run1']\n",
    "broker_run1_series.describe()"
   ],
   "metadata": {
    "collapsed": false,
    "pycharm": {
     "name": "#%%\n"
    }
   }
  },
  {
   "cell_type": "markdown",
   "metadata": {
    "pycharm": {
     "name": "#%% md\n"
    }
   },
   "source": [
    "### Latency Node Quantiles"
   ]
  },
  {
   "cell_type": "code",
   "execution_count": 6,
   "metadata": {
    "pycharm": {
     "name": "#%%\n"
    }
   },
   "outputs": [
    {
     "data": {
      "text/plain": "0.05000     202.00000\n0.10000     208.00000\n0.25000     221.00000\n0.50000     239.00000\n0.75000     280.00000\n0.90000     354.00000\n0.99000     508.00000\n0.99500     550.00000\n0.99900     611.00000\n0.99990     719.00010\n0.99995     812.00065\n0.99999    3528.00999\nName: run1, dtype: float64"
     },
     "execution_count": 6,
     "metadata": {},
     "output_type": "execute_result"
    }
   ],
   "source": [
    "q1 = run1_series.quantile(q=[0.05,0.1,0.25,0.5,0.75,0.9,0.99,0.995,0.999,0.9999,0.99995,0.99999])\n",
    "q1"
   ]
  },
  {
   "cell_type": "markdown",
   "source": [
    "### Broker Node Quantiles"
   ],
   "metadata": {
    "collapsed": false,
    "pycharm": {
     "name": "#%% md\n"
    }
   }
  },
  {
   "cell_type": "code",
   "execution_count": 7,
   "outputs": [
    {
     "data": {
      "text/plain": "0.05000    182.0000\n0.10000    190.0000\n0.25000    206.0000\n0.50000    224.0000\n0.75000    258.0000\n0.90000    322.0000\n0.99000    483.0000\n0.99500    509.0000\n0.99900    572.0000\n0.99990    646.0000\n0.99995    676.0000\n0.99999    804.0014\nName: run1, dtype: float64"
     },
     "execution_count": 7,
     "metadata": {},
     "output_type": "execute_result"
    }
   ],
   "source": [
    "broker_q1 = broker_run1_series.quantile(q=[0.05,0.1,0.25,0.5,0.75,0.9,0.99,0.995,0.999,0.9999,0.99995,0.99999])\n",
    "broker_q1\n",
    "\n",
    "\n",
    "\n",
    "\n"
   ],
   "metadata": {
    "collapsed": false,
    "pycharm": {
     "name": "#%%\n"
    }
   }
  },
  {
   "cell_type": "code",
   "execution_count": 8,
   "outputs": [
    {
     "data": {
      "text/plain": "<seaborn.axisgrid.FacetGrid at 0x139083760>"
     },
     "execution_count": 8,
     "metadata": {},
     "output_type": "execute_result"
    },
    {
     "data": {
      "text/plain": "<Figure size 1800x1080 with 0 Axes>"
     },
     "metadata": {},
     "output_type": "display_data"
    },
    {
     "data": {
      "text/plain": "<Figure size 419.25x360 with 1 Axes>",
      "image/png": "[encoded data removed]"
     },
     "metadata": {
      "needs_background": "light"
     },
     "output_type": "display_data"
    }
   ],
   "source": [
    "plt.figure(figsize=(25,15))\n",
    "sns.displot(data=df_latencies)"
   ],
   "metadata": {
    "collapsed": false,
    "pycharm": {
     "name": "#%%\n"
    }
   }
  },
  {
   "cell_type": "code",
   "execution_count": 9,
   "outputs": [
    {
     "data": {
      "text/plain": "<seaborn.axisgrid.FacetGrid at 0x10b09f8e0>"
     },
     "execution_count": 9,
     "metadata": {},
     "output_type": "execute_result"
    },
    {
     "data": {
      "text/plain": "<Figure size 1800x1080 with 0 Axes>"
     },
     "metadata": {},
     "output_type": "display_data"
    },
    {
     "data": {
      "text/plain": "<Figure size 419.25x360 with 1 Axes>",
      "image/png": "[encoded data removed]"
     },
     "metadata": {
      "needs_background": "light"
     },
     "output_type": "display_data"
    }
   ],
   "source": [
    "plt.figure(figsize=(25,15))\n",
    "sns.displot(data=df_broker_latencies)\n"
   ],
   "metadata": {
    "collapsed": false,
    "pycharm": {
     "name": "#%%\n"
    }
   }
  },
  {
   "cell_type": "markdown",
   "source": [
    "## DELTA Series"
   ],
   "metadata": {
    "collapsed": false,
    "pycharm": {
     "name": "#%% md\n"
    }
   }
  },
  {
   "cell_type": "markdown",
   "source": [],
   "metadata": {
    "collapsed": false,
    "pycharm": {
     "name": "#%% md\n"
    }
   }
  },
  {
   "cell_type": "code",
   "execution_count": 10,
   "outputs": [
    {
     "data": {
      "text/plain": "count     4034.000000\nmean        93.490084\nstd        386.705188\nmin          1.000000\n25%         20.000000\n50%         40.000000\n75%         70.000000\nmax      13910.000000\nName: delta, dtype: float64"
     },
     "execution_count": 10,
     "metadata": {},
     "output_type": "execute_result"
    }
   ],
   "source": [
    "delta_index_latencies = run.export_latency_node_delta_index_latencies(lambda latency: latency >= q1.get(0.99))\n",
    "df_delta_index_latencies = pd.DataFrame(data={\"delta\":delta_index_latencies})\n",
    "df_delta_index_latencies['delta'].describe()"
   ],
   "metadata": {
    "collapsed": false,
    "pycharm": {
     "name": "#%%\n"
    }
   }
  },
  {
   "cell_type": "code",
   "execution_count": 11,
   "outputs": [
    {
     "data": {
      "text/plain": "<seaborn.axisgrid.FacetGrid at 0x1390e90d0>"
     },
     "execution_count": 11,
     "metadata": {},
     "output_type": "execute_result"
    },
    {
     "data": {
      "text/plain": "<Figure size 1800x1080 with 0 Axes>"
     },
     "metadata": {},
     "output_type": "display_data"
    },
    {
     "data": {
      "text/plain": "<Figure size 421.375x360 with 1 Axes>",
      "image/png": "[encoded data removed]"
     },
     "metadata": {
      "needs_background": "light"
     },
     "output_type": "display_data"
    }
   ],
   "source": [
    "plt.figure(figsize=(25,15))\n",
    "sns.displot(data=df_delta_index_latencies)"
   ],
   "metadata": {
    "collapsed": false,
    "pycharm": {
     "name": "#%%\n"
    }
   }
  },
  {
   "cell_type": "code",
   "execution_count": 12,
   "outputs": [
    {
     "data": {
      "text/plain": "      gap_length\n0           4287\n1           1673\n2            420\n3             26\n4            236\n...          ...\n4020          18\n4021          18\n4022          48\n4023           8\n4024           8\n\n[4025 rows x 1 columns]",
      "text/html": "<div>\n<style scoped>\n    .dataframe tbody tr th:only-of-type {\n        vertical-align: middle;\n    }\n\n    .dataframe tbody tr th {\n        vertical-align: top;\n    }\n\n    .dataframe thead th {\n        text-align: right;\n    }\n</style>\n<table border=\"1\" class=\"dataframe\">\n  <thead>\n    <tr style=\"text-align: right;\">\n      <th></th>\n      <th>gap_length</th>\n    </tr>\n  </thead>\n  <tbody>\n    <tr>\n      <th>0</th>\n      <td>4287</td>\n    </tr>\n    <tr>\n      <th>1</th>\n      <td>1673</td>\n    </tr>\n    <tr>\n      <th>2</th>\n      <td>420</td>\n    </tr>\n    <tr>\n      <th>3</th>\n      <td>26</td>\n    </tr>\n    <tr>\n      <th>4</th>\n      <td>236</td>\n    </tr>\n    <tr>\n      <th>...</th>\n      <td>...</td>\n    </tr>\n    <tr>\n      <th>4020</th>\n      <td>18</td>\n    </tr>\n    <tr>\n      <th>4021</th>\n      <td>18</td>\n    </tr>\n    <tr>\n      <th>4022</th>\n      <td>48</td>\n    </tr>\n    <tr>\n      <th>4023</th>\n      <td>8</td>\n    </tr>\n    <tr>\n      <th>4024</th>\n      <td>8</td>\n    </tr>\n  </tbody>\n</table>\n<p>4025 rows × 1 columns</p>\n</div>"
     },
     "execution_count": 12,
     "metadata": {},
     "output_type": "execute_result"
    }
   ],
   "source": [
    "lat_series_length = run.export_latency_node_series_length_latencies(lambda latency: latency >= q1.get(0.99))\n",
    "s = lat_series_length[constants.k_latency_series_length]\n",
    "g = lat_series_length[constants.k_latency_gap_length]\n",
    "df_series_length = pd.DataFrame(data={\"series_length\": s})\n",
    "df_series_length = pd.DataFrame(data={\"gap_length\": g})\n",
    "df_series_length\n",
    "\n"
   ],
   "metadata": {
    "collapsed": false,
    "pycharm": {
     "name": "#%%\n"
    }
   }
  }
 ],
 "metadata": {
  "kernelspec": {
   "display_name": "Python 3",
   "language": "python",
   "name": "python3"
  },
  "language_info": {
   "codemirror_mode": {
    "name": "ipython",
    "version": 3
   },
   "file_extension": ".py",
   "mimetype": "text/x-python",
   "name": "python",
   "nbconvert_exporter": "python",
   "pygments_lexer": "ipython3",
   "version": "3.8.5"
  }
 },
 "nbformat": 4,
 "nbformat_minor": 4
}