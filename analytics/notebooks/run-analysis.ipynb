{
 "cells": [
  {
   "cell_type": "code",
   "execution_count": null,
   "metadata": {},
   "outputs": [],
   "source": [
    "# ---------------------------------------------------------------------------------------------\n",
    "# MIT License\n",
    "# Copyright (c) 2020, Solace Corporation, Jochen Traunecker (jochen.traunecker@solace.com)\n",
    "# Copyright (c) 2020, Solace Corporation, Ricardo Gomez-Ulmke (ricardo.gomez-ulmke@solace.com)\n",
    "# ---------------------------------------------------------------------------------------------"
   ]
  },
  {
   "cell_type": "code",
   "execution_count": null,
   "metadata": {},
   "outputs": [],
   "source": [
    "\n",
    "####################################\n",
    "# \n",
    "# set the relese manually\n",
    "\n",
    "_RELEASE_=\"R 0.7.3\"\n",
    "\n",
    "####################################\n"
   ]
  },
  {
   "cell_type": "code",
   "execution_count": null,
   "metadata": {},
   "outputs": [],
   "source": [
    "\n",
    "\n",
    "# Check if running in production mode \n",
    "# if not, set devel envs here\n",
    "\n",
    "import os\n",
    "from distutils.util import strtobool\n",
    "\n",
    "notebook_run_production_mode_env_val=os.getenv(\"NOTEBOOK_RUN_PRODUCTION_MODE\")\n",
    "if notebook_run_production_mode_env_val is not None:\n",
    "    is_notebook_run_production_mode = bool(strtobool(notebook_run_production_mode_env_val))\n",
    "else:\n",
    "    is_notebook_run_production_mode = False\n",
    "\n",
    "if not is_notebook_run_production_mode:\n",
    "    import sys, re\n",
    "    analytics_path = re.sub(r'/analytics/.*$', '/analytics', sys.path[0])\n",
    "    print(\"analytics_path={}\".format(analytics_path))\n",
    "    sys.path[0] = analytics_path + \"/notebooks\"\n",
    "    print(\"sys.path[0]={}\".format(sys.path[0]))\n",
    "\n",
    "    os.environ['ANALYTICS_ENABLE_LOGGING'] = \"true\"    \n",
    "    os.environ['ANALYTICS_LOG_FILE'] = \"./logs/run-analysis.ipynb.log\"    \n",
    "    # azure\n",
    "    # os.environ['NOTEBOOK_RESULTS_LOCATION_DIR'] = \"../../uc-non-persistent/test-results/stats/azure.1-auto-standalone\"\n",
    "    # os.environ['NOTEBOOK_RESULTS_LOCATION_DIR'] = \"../../uc-non-persistent/test-results/stats/azure.2-auto-standalone\"\n",
    "    # os.environ['NOTEBOOK_RESULTS_LOCATION_DIR'] = \"../../uc-non-persistent/test-results/stats/azure.devel1-standalone\"\n",
    "    # aws\n",
    "    # os.environ['NOTEBOOK_RESULTS_LOCATION_DIR'] = \"../../uc-non-persistent/test-results/stats/aws.1-auto-standalone\"\n",
    "    os.environ['NOTEBOOK_RESULTS_LOCATION_DIR'] = \"../../uc-non-persistent/test-results/stats/aws.devel1-standalone\"\n",
    "\n",
    "    os.environ['NOTEBOOK_RUN_ID'] = \"2020-11-19-07-01-10\"\n",
    "    \n",
    "    \n",
    "if not is_notebook_run_production_mode:\n",
    "    # print env vars\n",
    "    print(\"ANALYTICS_ENABLE_LOGGING={}\".format(os.getenv('ANALYTICS_ENABLE_LOGGING')))\n",
    "    print(\"ANALYTICS_LOG_FILE={}\".format(os.getenv('ANALYTICS_LOG_FILE')))\n",
    "    print(\"NOTEBOOK_RESULTS_LOCATION_DIR={}\".format(os.getenv('NOTEBOOK_RESULTS_LOCATION_DIR')))\n",
    "    print(\"NOTEBOOK_RUN_ID={}\".format(os.getenv('NOTEBOOK_RUN_ID')))\n"
   ]
  },
  {
   "cell_type": "code",
   "execution_count": null,
   "metadata": {},
   "outputs": [],
   "source": [
    "from lib import run_definition\n",
    "from lib import run_result_location\n",
    "from lib import constants\n",
    "from lib import run\n",
    "from lib import run_analytics\n",
    "from os import path\n",
    "\n",
    "import json\n",
    "\n",
    "# import numpy as np\n",
    "# import pandas as pd\n",
    "# from jsonpath_ng import jsonpath, parse\n",
    "# import matplotlib.pyplot as plt\n",
    "# import seaborn as sns\n",
    "# import plotly.express as px\n",
    "# import plotly.graph_objects as go\n",
    "\n",
    "results_location_dir = os.getenv('NOTEBOOK_RESULTS_LOCATION_DIR')\n",
    "run_id = os.getenv('NOTEBOOK_RUN_ID')\n",
    "\n",
    "# import logging\n",
    "# logging.debug(\"results_location_dir='{}'\".format(results_location_dir))\n",
    "# print(\"results_location_dir='{}'\".format(results_location_dir))\n",
    "# logging.debug(\"run_id='{}'\".format(run_id))\n",
    "# print(\"run_id='{}'\".format(run_id))\n",
    "\n",
    "# plt.rcParams[\"figure.figsize\"] = [50, 50]\n",
    "\n",
    "location = run_result_location.RunResultLocation(results_location_dir)\n",
    "\n",
    "runDefinition = run_definition.RunDefinition(location)\n",
    "runDefinition.process_run_samples()\n",
    "run = runDefinition.find_run(run_id, True)\n",
    "run_analytics = run_analytics.RunAnalytics(run)\n",
    "\n",
    "if not is_notebook_run_production_mode:\n",
    "    import logging\n",
    "    logging.debug(f\"run={run}\")\n",
    "\n",
    "\n",
    "\n"
   ]
  },
  {
   "cell_type": "code",
   "execution_count": null,
   "metadata": {},
   "outputs": [],
   "source": [
    "\n",
    "\n",
    "from IPython.display import Markdown, display\n",
    "display(Markdown(run.run_meta.getHeaderAsMarkdown(_RELEASE_)))"
   ]
  },
  {
   "cell_type": "code",
   "execution_count": null,
   "metadata": {},
   "outputs": [],
   "source": []
  },
  {
   "cell_type": "code",
   "execution_count": null,
   "metadata": {},
   "outputs": [],
   "source": [
    "from IPython.display import Markdown, display\n",
    "display(Markdown(run.run_meta.getUseCaseAsMarkdown()))"
   ]
  },
  {
   "cell_type": "code",
   "execution_count": null,
   "metadata": {},
   "outputs": [],
   "source": [
    "from IPython.display import Markdown, display\n",
    "display(Markdown(run_analytics.getChecksAsMarkdown()))"
   ]
  },
  {
   "cell_type": "code",
   "execution_count": null,
   "metadata": {},
   "outputs": [],
   "source": [
    "if not run.success:\n",
    "    import logging, sys\n",
    "    logging.error(f\"ERROR: run was not successful - check error logs\")\n",
    "    sys.exit(0)"
   ]
  },
  {
   "cell_type": "code",
   "execution_count": null,
   "metadata": {},
   "outputs": [],
   "source": [
    "from IPython.display import Markdown, display\n",
    "display(Markdown(run.broker_series.getOverviewAsMarkdown()))\n"
   ]
  },
  {
   "cell_type": "code",
   "execution_count": null,
   "metadata": {},
   "outputs": [],
   "source": [
    "\n",
    "if run.run_meta.getRuncSpecLoadIsIncluded():\n",
    "    import pandas as pd\n",
    "    import plotly.express as px\n",
    "\n",
    "    consumer_messages_receieved_df = run_analytics.export_consumer_messages_received_as_dataframe()\n",
    "    bar_chart = px.bar(consumer_messages_receieved_df, \\\n",
    "                        title='Consumers: Messages Received', \\\n",
    "                        labels={'messages_received': '[number]', 'consumer_names': 'node:consumer-id'}, x='consumer_names', y='messages_received',\\\n",
    "                        height=300)\n",
    "    bar_chart.show()\n"
   ]
  },
  {
   "cell_type": "code",
   "execution_count": null,
   "metadata": {},
   "outputs": [],
   "source": [
    "# Overview of Broker and Latency-Node Latencies\n",
    "# To render both categories in one bar-plot it is best to use just standard Python data structures\n",
    "# box_data is a dict with 'metrics':list(string): the metrics labels/names\n",
    "#                         'latency-node':list(float) : the calculated metrics in the order of metric-labels\n",
    "#                         'broker-node':list(float) : the calculated metrics in the order of metric-labels\n",
    "#\n",
    "bar_data = run_analytics.export_combined_all_distinct_latencies_metrics()\n",
    "\n",
    "import plotly.graph_objects as go\n",
    "\n",
    "title = \"Latency Summary Stats: \"\n",
    "sep = \"\"\n",
    "displayChart = False\n",
    "if run.run_meta.getRuncSpecMonitorLatencyLatencyNodeIsIncluded():\n",
    "    title += \"Latency Node (Network)\"\n",
    "    sep = \", \"\n",
    "    displayChart = True\n",
    "if run.run_meta.getRuncSpecMonitorLatencyBrokerNodeIsIncluded():\n",
    "    title += sep + \"Broker Node (local)\"    \n",
    "    displayChart = True\n",
    "\n",
    "if displayChart:\n",
    "    bar_fig = go.Figure(\n",
    "        data =[\n",
    "            go.Bar(\n",
    "                name=\"Latency Node\",\n",
    "                x=bar_data['metrics'],\n",
    "                y=bar_data['latency-node'],\n",
    "                text=bar_data['latency-node'],\n",
    "                textposition='auto',\n",
    "                offsetgroup=0\n",
    "            ),\n",
    "            go.Bar(\n",
    "                name=\"Broker Node\",\n",
    "                x=bar_data['metrics'],\n",
    "                y=bar_data['broker-node'],\n",
    "                text=bar_data['broker-node'],\n",
    "                textposition='auto',\n",
    "                offsetgroup=1\n",
    "            )\n",
    "        ],\n",
    "        layout=go.Layout(\n",
    "            title=title,\n",
    "            yaxis_title=\"latency [micros]\"\n",
    "        )\n",
    "    )\n",
    "    bar_fig.update_traces(texttemplate='%{text:,.0f}')\n",
    "    bar_fig.show()\n",
    "else:\n",
    "    from IPython.display import Markdown, display\n",
    "    md = f\"\"\"\n",
    "### {title}\n",
    "No latency monitors included.\n",
    "    \"\"\"\n",
    "    display(Markdown(md))\n"
   ]
  },
  {
   "cell_type": "code",
   "execution_count": null,
   "metadata": {},
   "outputs": [],
   "source": [
    "if run.run_meta.getRuncSpecMonitorLatencyLatencyNodeIsIncluded():\n",
    "    import plotly.express as px\n",
    "    import pandas as pd\n",
    "\n",
    "    lat_node_raw_latencies = run.export_latency_node_distinct_latencies()\n",
    "    lat_node_raw_latencies_df = pd.DataFrame(data={\"latencies\":lat_node_raw_latencies})\n",
    "\n",
    "    fig = px.histogram(lat_node_raw_latencies_df, \\\n",
    "        x=\"latencies\", \\\n",
    "        title=f'Latency Node (Network): Histogram of Raw Latencies per message (total:{len(lat_node_raw_latencies):,})', \\\n",
    "        labels={'latencies': 'latency[micros]', 'count': 'messages'} )\n",
    "    # fig = px.histogram(latencies_df, x=\"latencies\", nbins=100)\n",
    "    fig.show()\n",
    "\n"
   ]
  },
  {
   "cell_type": "code",
   "execution_count": null,
   "metadata": {},
   "outputs": [],
   "source": [
    "if run.run_meta.getRuncSpecMonitorLatencyBrokerNodeIsIncluded():\n",
    "    import plotly.express as px\n",
    "    import pandas as pd\n",
    "\n",
    "    broker_node_raw_latencies = run.export_broker_node_distinct_latencies()\n",
    "    broker_node_raw_latencies_df = pd.DataFrame(data={\"latencies\":broker_node_raw_latencies})\n",
    "\n",
    "    fig = px.histogram(broker_node_raw_latencies_df, \\\n",
    "        x=\"latencies\", \\\n",
    "        title=f'Broker Node (local): Histogram of Raw Latencies per message (total:{len(broker_node_raw_latencies):,})', \\\n",
    "        labels={'latencies': 'latency[micros]', 'count': 'messages'} )\n",
    "    # fig = px.histogram(latencies_df, x=\"latencies\", nbins=100)\n",
    "    fig.show()"
   ]
  },
  {
   "cell_type": "code",
   "execution_count": null,
   "metadata": {},
   "outputs": [],
   "source": [
    "\n",
    "from IPython.display import Markdown, display\n",
    "display(Markdown(run.run_meta.getAsMarkdown()))\n"
   ]
  },
  {
   "source": [
    "## Latency Stats: Latency Node to Broker Node (Network)"
   ],
   "cell_type": "markdown",
   "metadata": {}
  },
  {
   "cell_type": "code",
   "execution_count": null,
   "metadata": {},
   "outputs": [],
   "source": [
    "if run.run_meta.getRuncSpecMonitorLatencyLatencyNodeIsIncluded():\n",
    "    import plotly.express as px\n",
    "    df_lat_lat_node = run_analytics.export_latency_node_series_latencies_metrics_as_dataframe()\n",
    "    fig_line = px.line(df_lat_lat_node,\n",
    "                    title=\"Latency Percentiles: Latency Node to Broker Node (Network)\",\n",
    "                    labels={\"value\":\"latency [micros]\", \"index\":\"sample [number]\"})\n",
    "    fig_line.show()\n",
    "else: \n",
    "    print(\"Latency Node to Broker Node: not included\")\n"
   ]
  },
  {
   "source": [
    "## Latency Stats: Broker Node to Broker Node (local)"
   ],
   "cell_type": "markdown",
   "metadata": {}
  },
  {
   "cell_type": "code",
   "execution_count": null,
   "metadata": {},
   "outputs": [],
   "source": [
    "if run.run_meta.getRuncSpecMonitorLatencyBrokerNodeIsIncluded():\n",
    "    import plotly.express as px\n",
    "    df_lat_broker_node = run_analytics.export_broker_node_series_latencies_metrics_as_dataframe()\n",
    "    fig_line = px.line(df_lat_broker_node,\n",
    "                    title=\"Latency Percentiles: Broker Node to Broker Node (local)\",\n",
    "                    labels={\"value\":\"latency [micros]\", \"index\":\"sample [number]\"})\n",
    "    fig_line.show()\n",
    "else: \n",
    "    print(\"Broker Node to Broker Node: not included\")"
   ]
  },
  {
   "source": [
    "## Latency (raw data): Latency Node to Broker Node (Network)"
   ],
   "cell_type": "markdown",
   "metadata": {}
  },
  {
   "cell_type": "code",
   "execution_count": null,
   "metadata": {},
   "outputs": [],
   "source": [
    "if run.run_meta.getRuncSpecMonitorLatencyLatencyNodeIsIncluded():\n",
    "    import plotly.express as px\n",
    "    df_lat_raw_lat_node = run_analytics.export_latency_node_distinct_latencies_as_dataframe()\n",
    "    fig_line = px.line(df_lat_raw_lat_node,\n",
    "                    title=\"Latency (raw data): Latency Node to Broker Node (network)\",\n",
    "                    labels={\"value\":\"latency [micros]\", \"index\":\"message [number]\"})\n",
    "    fig_line.show()\n",
    "else: \n",
    "    print(\"Latency Node to Broker Node: not included\")"
   ]
  },
  {
   "source": [
    "## Latency (raw data): Broker Node to Broker Node (local)"
   ],
   "cell_type": "markdown",
   "metadata": {}
  },
  {
   "cell_type": "code",
   "execution_count": null,
   "metadata": {},
   "outputs": [],
   "source": [
    "if run.run_meta.getRuncSpecMonitorLatencyBrokerNodeIsIncluded():\n",
    "    import plotly.express as px\n",
    "    df_lat_raw_broker_node = run_analytics.export_broker_node_distinct_latencies_as_dataframe()\n",
    "    fig_line = px.line(df_lat_raw_broker_node,\n",
    "                    title=\"Latency (raw data): Broker Node to Broker Node (local)\",\n",
    "                    labels={\"value\":\"latency [micros]\", \"index\":\"message [number]\"})\n",
    "    fig_line.show()\n",
    "else: \n",
    "    print(\"Broker Node to Broker Node: not included\")"
   ]
  },
  {
   "source": [
    "## Ping Statistics: Latency Node to Broker Node (Network)"
   ],
   "cell_type": "markdown",
   "metadata": {}
  },
  {
   "cell_type": "code",
   "execution_count": null,
   "metadata": {},
   "outputs": [],
   "source": [
    "if run.run_meta.getRuncSpecMonitorPingIsIncluded():\n",
    "    import plotly.express as px\n",
    "    df_ping = run_analytics.export_ping_series_as_columns_dataframe()\n",
    "    fig_line = px.line(df_ping,\n",
    "                        title=\"Ping Statistics: Latency Node to Broker Node (Network)\",\n",
    "                        labels={\"value\":\"latency [micros]\", \"index\":\"sample [number]\"})\n",
    "    fig_line.show()    \n",
    "else: \n",
    "    print(\"Ping Statistics: not included\")"
   ]
  },
  {
   "source": [
    "  ---\n",
    "  # Detailed Broker Metrics"
   ],
   "cell_type": "markdown",
   "metadata": {}
  },
  {
   "cell_type": "code",
   "execution_count": null,
   "metadata": {},
   "outputs": [],
   "source": [
    "if not run.run_meta.getRuncSpecLoadIsIncluded():\n",
    "    print(\"Load: not included\")"
   ]
  },
  {
   "cell_type": "code",
   "execution_count": null,
   "metadata": {},
   "outputs": [],
   "source": [
    "if run.run_meta.getRuncSpecLoadIsIncluded():\n",
    "    import pandas as pd\n",
    "    import plotly.express as px\n",
    "\n",
    "    df_txQueueByteCount = run_analytics.export_broker_txQueueByteCount_by_consumer_as_dataframe()\n",
    "    fig_line = px.line(df_txQueueByteCount,\n",
    "                title=\"Consumers: Broker buffer size (txQueueByteCount)\",\n",
    "                labels={\"value\":\"tx queue [bytes]\", \"index\":\"sample [number]\"})\n",
    "    fig_line.show()"
   ]
  },
  {
   "cell_type": "code",
   "execution_count": null,
   "metadata": {},
   "outputs": [],
   "source": [
    "if run.run_meta.getRuncSpecLoadIsIncluded():\n",
    "    import pandas as pd\n",
    "    import plotly.express as px\n",
    "\n",
    "    df_smoothedRoundTripTime = run_analytics.export_broker_smoothedRoundTripTime_by_consumer_as_dataframe()\n",
    "    fig_line = px.line(df_smoothedRoundTripTime,\n",
    "                title=\"Consumers: Broker smoothed round-trip time (smoothedRoundTripTime)\",\n",
    "                labels={\"value\":\"srtt [micros]\", \"index\":\"sample [number]\"})\n",
    "    fig_line.show()"
   ]
  },
  {
   "cell_type": "code",
   "execution_count": null,
   "metadata": {},
   "outputs": [],
   "source": [
    "if run.run_meta.getRuncSpecLoadIsIncluded():\n",
    "    import pandas as pd\n",
    "    import plotly.express as px\n",
    "\n",
    "    df_timedRetransmitCount = run_analytics.export_broker_timedRetransmitCount_by_consumer_as_dataframe()\n",
    "    fig_line = px.line(df_timedRetransmitCount,\n",
    "                title=\"Consumers: Broker retransmit count (timedRetransmitCount)\",\n",
    "                labels={\"value\":\"retransmit count [number]\", \"index\":\"sample [number]\"})\n",
    "    fig_line.show()"
   ]
  },
  {
   "cell_type": "code",
   "execution_count": null,
   "metadata": {},
   "outputs": [],
   "source": [
    "if run.run_meta.getRuncSpecLoadIsIncluded():\n",
    "    import pandas as pd\n",
    "    import plotly.express as px\n",
    "\n",
    "    df_uptime = run_analytics.export_broker_uptime_by_consumer_as_dataframe()\n",
    "    fig_line = px.line(df_uptime,\n",
    "                title=\"Consumers: Broker connection uptime (uptime)\",\n",
    "                labels={\"value\":\"uptime [seconds]\", \"index\":\"sample [number]\"})\n",
    "    fig_line.show()"
   ]
  },
  {
   "source": [
    "---\n",
    "The End."
   ],
   "cell_type": "markdown",
   "metadata": {}
  }
 ],
 "metadata": {
  "kernelspec": {
   "display_name": "Python 3",
   "language": "python",
   "name": "python3"
  },
  "language_info": {
   "codemirror_mode": {
    "name": "ipython",
    "version": 3
   },
   "file_extension": ".py",
   "mimetype": "text/x-python",
   "name": "python",
   "nbconvert_exporter": "python",
   "pygments_lexer": "ipython3",
   "version": "3.8.6-final"
  }
 },
 "nbformat": 4,
 "nbformat_minor": 4
}