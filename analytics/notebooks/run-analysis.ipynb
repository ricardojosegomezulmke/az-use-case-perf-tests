{
 "cells": [
  {
   "source": [
    "# Run Analysis"
   ],
   "cell_type": "markdown",
   "metadata": {}
  },
  {
   "cell_type": "code",
   "execution_count": 1,
   "metadata": {},
   "outputs": [
    {
     "output_type": "stream",
     "name": "stdout",
     "text": [
      "analytics_path=/Users/rjgu/Dropbox/Solace-Contents/Solace-IoT-Team/azure-performance/az-use-case-perf-tests/analytics\nsys.path[0]=/Users/rjgu/Dropbox/Solace-Contents/Solace-IoT-Team/azure-performance/az-use-case-perf-tests/analytics/notebooks\nANALYTICS_ENABLE_LOGGING=true\nANALYTICS_LOG_FILE=./logs/run-analysis.ipynb.log\nNOTEBOOK_RESULTS_LOCATION_DIR=../../uc-non-persistent/test-results/stats/aws.devel1-standalone\nNOTEBOOK_RUN_ID=2020-11-12-11-50-32\n"
     ]
    }
   ],
   "source": [
    "# ---------------------------------------------------------------------------------------------\n",
    "# MIT License\n",
    "# Copyright (c) 2020, Solace Corporation, Jochen Traunecker (jochen.traunecker@solace.com)\n",
    "# Copyright (c) 2020, Solace Corporation, Ricardo Gomez-Ulmke (ricardo.gomez-ulmke@solace.com)\n",
    "# ---------------------------------------------------------------------------------------------\n",
    "\n",
    "# Check if running in production mode \n",
    "# if not, set devel envs here\n",
    "\n",
    "import os\n",
    "from distutils.util import strtobool\n",
    "\n",
    "notebook_run_production_mode_env_val=os.getenv(\"NOTEBOOK_RUN_PRODUCTION_MODE\")\n",
    "if notebook_run_production_mode_env_val is not None:\n",
    "    is_notebook_run_production_mode = bool(strtobool(notebook_run_production_mode_env_val))\n",
    "else:\n",
    "    is_notebook_run_production_mode = False\n",
    "\n",
    "if not is_notebook_run_production_mode:\n",
    "    import sys, re\n",
    "    analytics_path = re.sub(r'/analytics/.*$', '/analytics', sys.path[0])\n",
    "    print(\"analytics_path={}\".format(analytics_path))\n",
    "    sys.path[0] = analytics_path + \"/notebooks\"\n",
    "    print(\"sys.path[0]={}\".format(sys.path[0]))\n",
    "\n",
    "    os.environ['ANALYTICS_ENABLE_LOGGING'] = \"true\"    \n",
    "    os.environ['ANALYTICS_LOG_FILE'] = \"./logs/run-analysis.ipynb.log\"    \n",
    "    # azure\n",
    "    # os.environ['NOTEBOOK_RESULTS_LOCATION_DIR'] = \"../../uc-non-persistent/test-results/stats/azure.1-auto-standalone\"\n",
    "    # aws\n",
    "    # os.environ['NOTEBOOK_RESULTS_LOCATION_DIR'] = \"../../uc-non-persistent/test-results/stats/aws.1-auto-standalone\"\n",
    "    os.environ['NOTEBOOK_RESULTS_LOCATION_DIR'] = \"../../uc-non-persistent/test-results/stats/aws.devel1-standalone\"\n",
    "\n",
    "    os.environ['NOTEBOOK_RUN_ID'] = \"2020-11-12-11-50-32\"\n",
    "    # os.environ['NOTEBOOK_RUN_ID'] = \"2020-11-12-12-08-24\"\n",
    "    \n",
    "    \n",
    "if not is_notebook_run_production_mode:\n",
    "    # print env vars\n",
    "    print(\"ANALYTICS_ENABLE_LOGGING={}\".format(os.getenv('ANALYTICS_ENABLE_LOGGING')))\n",
    "    print(\"ANALYTICS_LOG_FILE={}\".format(os.getenv('ANALYTICS_LOG_FILE')))\n",
    "    print(\"NOTEBOOK_RESULTS_LOCATION_DIR={}\".format(os.getenv('NOTEBOOK_RESULTS_LOCATION_DIR')))\n",
    "    print(\"NOTEBOOK_RUN_ID={}\".format(os.getenv('NOTEBOOK_RUN_ID')))\n"
   ]
  },
  {
   "cell_type": "code",
   "execution_count": 2,
   "metadata": {},
   "outputs": [],
   "source": [
    "from lib import run_definition\n",
    "from lib import run_result_location\n",
    "from lib import constants\n",
    "from lib import run\n",
    "from lib import run_analytics\n",
    "from os import path\n",
    "\n",
    "import json\n",
    "\n",
    "# import numpy as np\n",
    "# import pandas as pd\n",
    "# from jsonpath_ng import jsonpath, parse\n",
    "# import matplotlib.pyplot as plt\n",
    "# import seaborn as sns\n",
    "# import plotly.express as px\n",
    "# import plotly.graph_objects as go\n",
    "\n",
    "results_location_dir = os.getenv('NOTEBOOK_RESULTS_LOCATION_DIR')\n",
    "run_id = os.getenv('NOTEBOOK_RUN_ID')\n",
    "\n",
    "# import logging\n",
    "# logging.debug(\"results_location_dir='{}'\".format(results_location_dir))\n",
    "# print(\"results_location_dir='{}'\".format(results_location_dir))\n",
    "# logging.debug(\"run_id='{}'\".format(run_id))\n",
    "# print(\"run_id='{}'\".format(run_id))\n",
    "\n",
    "# plt.rcParams[\"figure.figsize\"] = [50, 50]\n",
    "\n",
    "location = run_result_location.RunResultLocation(results_location_dir)\n",
    "\n",
    "runDefinition = run_definition.RunDefinition(location)\n",
    "runDefinition.process_run_samples()\n",
    "run = runDefinition.find_run(run_id, True)\n",
    "run_analytics = run_analytics.RunAnalytics(run)\n",
    "\n",
    "if not is_notebook_run_production_mode:\n",
    "    import logging\n",
    "    logging.debug(f\"run={run}\")\n",
    "\n",
    "\n",
    "\n"
   ]
  },
  {
   "cell_type": "code",
   "execution_count": 3,
   "metadata": {},
   "outputs": [
    {
     "output_type": "display_data",
     "data": {
      "text/plain": "<IPython.core.display.Markdown object>",
      "text/markdown": "\n## Use Case: Market Data Distribution (uc_non_persistent)\n\nTest Specification: \ntp-001: artificial test for base line comparison.\n(devel_tp_001)\n        "
     },
     "metadata": {}
    }
   ],
   "source": [
    "from IPython.display import Markdown, display\n",
    "display(Markdown(run.run_meta.getUseCaseAsMarkdown()))"
   ]
  },
  {
   "cell_type": "code",
   "execution_count": 4,
   "metadata": {},
   "outputs": [],
   "source": [
    "if not run.success:\n",
    "    import logging, sys\n",
    "    logging.error(f\"run was not successful - check error logs\")\n",
    "    sys.exit(0)"
   ]
  },
  {
   "cell_type": "code",
   "execution_count": 5,
   "metadata": {},
   "outputs": [
    {
     "output_type": "display_data",
     "data": {
      "text/plain": "<IPython.core.display.Markdown object>",
      "text/markdown": "\n## Run Metrics Summary\n\nDescription: base run: 1 publisher, 40 consumers, 40 topics, fan-out=1:1, 50K msgs/sec, 100 bytes\n\n|Monitors        |Messages|Discarded|Rate (1/sec)|Fan Out|\n|:---------------|:------:|:-------:|:-----------:|:-----:|\n|broker received:| 17,717  | 0  | 96 |1|\n|broker sent:    | 11,811  | 5,906  | 64 |0.67|\n\n|Load                                                                |Messages                               |Discarded                                       |Rate (1/sec)                             |Fan Out                     |\n|:-------------------------------------------------------------------|:-------------------------------------:|:----------------------------------------------:|:---------------------------------------:|:--------------------------:|\n|publishers (1)     |18,747 |6,249 |100  |1                           |\n|consumers (2)       |12,498  |0  |64   |1.50    |\n        "
     },
     "metadata": {}
    }
   ],
   "source": [
    "from IPython.display import Markdown, display\n",
    "display(Markdown(run.broker_series.getOverviewAsMarkdown()))\n"
   ]
  },
  {
   "cell_type": "code",
   "execution_count": 6,
   "metadata": {},
   "outputs": [
    {
     "output_type": "display_data",
     "data": {
      "application/vnd.plotly.v1+json": {
       "config": {
        "plotlyServerURL": "https://plot.ly"
       },
       "data": [
        {
         "alignmentgroup": "True",
         "hovertemplate": "consumers(node)=%{x}<br>number of messages received=%{y}<extra></extra>",
         "legendgroup": "",
         "marker": {
          "color": "#636efa"
         },
         "name": "",
         "offsetgroup": "",
         "orientation": "v",
         "showlegend": false,
         "textposition": "auto",
         "type": "bar",
         "x": [
          "node-0:consumer_1",
          "node-1:consumer_2"
         ],
         "xaxis": "x",
         "y": [
          6249,
          6249
         ],
         "yaxis": "y"
        }
       ],
       "layout": {
        "barmode": "relative",
        "legend": {
         "tracegroupgap": 0
        },
        "template": {
         "data": {
          "bar": [
           {
            "error_x": {
             "color": "#2a3f5f"
            },
            "error_y": {
             "color": "#2a3f5f"
            },
            "marker": {
             "line": {
              "color": "#E5ECF6",
              "width": 0.5
             }
            },
            "type": "bar"
           }
          ],
          "barpolar": [
           {
            "marker": {
             "line": {
              "color": "#E5ECF6",
              "width": 0.5
             }
            },
            "type": "barpolar"
           }
          ],
          "carpet": [
           {
            "aaxis": {
             "endlinecolor": "#2a3f5f",
             "gridcolor": "white",
             "linecolor": "white",
             "minorgridcolor": "white",
             "startlinecolor": "#2a3f5f"
            },
            "baxis": {
             "endlinecolor": "#2a3f5f",
             "gridcolor": "white",
             "linecolor": "white",
             "minorgridcolor": "white",
             "startlinecolor": "#2a3f5f"
            },
            "type": "carpet"
           }
          ],
          "choropleth": [
           {
            "colorbar": {
             "outlinewidth": 0,
             "ticks": ""
            },
            "type": "choropleth"
           }
          ],
          "contour": [
           {
            "colorbar": {
             "outlinewidth": 0,
             "ticks": ""
            },
            "colorscale": [
             [
              0,
              "#0d0887"
             ],
             [
              0.1111111111111111,
              "#46039f"
             ],
             [
              0.2222222222222222,
              "#7201a8"
             ],
             [
              0.3333333333333333,
              "#9c179e"
             ],
             [
              0.4444444444444444,
              "#bd3786"
             ],
             [
              0.5555555555555556,
              "#d8576b"
             ],
             [
              0.6666666666666666,
              "#ed7953"
             ],
             [
              0.7777777777777778,
              "#fb9f3a"
             ],
             [
              0.8888888888888888,
              "#fdca26"
             ],
             [
              1,
              "#f0f921"
             ]
            ],
            "type": "contour"
           }
          ],
          "contourcarpet": [
           {
            "colorbar": {
             "outlinewidth": 0,
             "ticks": ""
            },
            "type": "contourcarpet"
           }
          ],
          "heatmap": [
           {
            "colorbar": {
             "outlinewidth": 0,
             "ticks": ""
            },
            "colorscale": [
             [
              0,
              "#0d0887"
             ],
             [
              0.1111111111111111,
              "#46039f"
             ],
             [
              0.2222222222222222,
              "#7201a8"
             ],
             [
              0.3333333333333333,
              "#9c179e"
             ],
             [
              0.4444444444444444,
              "#bd3786"
             ],
             [
              0.5555555555555556,
              "#d8576b"
             ],
             [
              0.6666666666666666,
              "#ed7953"
             ],
             [
              0.7777777777777778,
              "#fb9f3a"
             ],
             [
              0.8888888888888888,
              "#fdca26"
             ],
             [
              1,
              "#f0f921"
             ]
            ],
            "type": "heatmap"
           }
          ],
          "heatmapgl": [
           {
            "colorbar": {
             "outlinewidth": 0,
             "ticks": ""
            },
            "colorscale": [
             [
              0,
              "#0d0887"
             ],
             [
              0.1111111111111111,
              "#46039f"
             ],
             [
              0.2222222222222222,
              "#7201a8"
             ],
             [
              0.3333333333333333,
              "#9c179e"
             ],
             [
              0.4444444444444444,
              "#bd3786"
             ],
             [
              0.5555555555555556,
              "#d8576b"
             ],
             [
              0.6666666666666666,
              "#ed7953"
             ],
             [
              0.7777777777777778,
              "#fb9f3a"
             ],
             [
              0.8888888888888888,
              "#fdca26"
             ],
             [
              1,
              "#f0f921"
             ]
            ],
            "type": "heatmapgl"
           }
          ],
          "histogram": [
           {
            "marker": {
             "colorbar": {
              "outlinewidth": 0,
              "ticks": ""
             }
            },
            "type": "histogram"
           }
          ],
          "histogram2d": [
           {
            "colorbar": {
             "outlinewidth": 0,
             "ticks": ""
            },
            "colorscale": [
             [
              0,
              "#0d0887"
             ],
             [
              0.1111111111111111,
              "#46039f"
             ],
             [
              0.2222222222222222,
              "#7201a8"
             ],
             [
              0.3333333333333333,
              "#9c179e"
             ],
             [
              0.4444444444444444,
              "#bd3786"
             ],
             [
              0.5555555555555556,
              "#d8576b"
             ],
             [
              0.6666666666666666,
              "#ed7953"
             ],
             [
              0.7777777777777778,
              "#fb9f3a"
             ],
             [
              0.8888888888888888,
              "#fdca26"
             ],
             [
              1,
              "#f0f921"
             ]
            ],
            "type": "histogram2d"
           }
          ],
          "histogram2dcontour": [
           {
            "colorbar": {
             "outlinewidth": 0,
             "ticks": ""
            },
            "colorscale": [
             [
              0,
              "#0d0887"
             ],
             [
              0.1111111111111111,
              "#46039f"
             ],
             [
              0.2222222222222222,
              "#7201a8"
             ],
             [
              0.3333333333333333,
              "#9c179e"
             ],
             [
              0.4444444444444444,
              "#bd3786"
             ],
             [
              0.5555555555555556,
              "#d8576b"
             ],
             [
              0.6666666666666666,
              "#ed7953"
             ],
             [
              0.7777777777777778,
              "#fb9f3a"
             ],
             [
              0.8888888888888888,
              "#fdca26"
             ],
             [
              1,
              "#f0f921"
             ]
            ],
            "type": "histogram2dcontour"
           }
          ],
          "mesh3d": [
           {
            "colorbar": {
             "outlinewidth": 0,
             "ticks": ""
            },
            "type": "mesh3d"
           }
          ],
          "parcoords": [
           {
            "line": {
             "colorbar": {
              "outlinewidth": 0,
              "ticks": ""
             }
            },
            "type": "parcoords"
           }
          ],
          "pie": [
           {
            "automargin": true,
            "type": "pie"
           }
          ],
          "scatter": [
           {
            "marker": {
             "colorbar": {
              "outlinewidth": 0,
              "ticks": ""
             }
            },
            "type": "scatter"
           }
          ],
          "scatter3d": [
           {
            "line": {
             "colorbar": {
              "outlinewidth": 0,
              "ticks": ""
             }
            },
            "marker": {
             "colorbar": {
              "outlinewidth": 0,
              "ticks": ""
             }
            },
            "type": "scatter3d"
           }
          ],
          "scattercarpet": [
           {
            "marker": {
             "colorbar": {
              "outlinewidth": 0,
              "ticks": ""
             }
            },
            "type": "scattercarpet"
           }
          ],
          "scattergeo": [
           {
            "marker": {
             "colorbar": {
              "outlinewidth": 0,
              "ticks": ""
             }
            },
            "type": "scattergeo"
           }
          ],
          "scattergl": [
           {
            "marker": {
             "colorbar": {
              "outlinewidth": 0,
              "ticks": ""
             }
            },
            "type": "scattergl"
           }
          ],
          "scattermapbox": [
           {
            "marker": {
             "colorbar": {
              "outlinewidth": 0,
              "ticks": ""
             }
            },
            "type": "scattermapbox"
           }
          ],
          "scatterpolar": [
           {
            "marker": {
             "colorbar": {
              "outlinewidth": 0,
              "ticks": ""
             }
            },
            "type": "scatterpolar"
           }
          ],
          "scatterpolargl": [
           {
            "marker": {
             "colorbar": {
              "outlinewidth": 0,
              "ticks": ""
             }
            },
            "type": "scatterpolargl"
           }
          ],
          "scatterternary": [
           {
            "marker": {
             "colorbar": {
              "outlinewidth": 0,
              "ticks": ""
             }
            },
            "type": "scatterternary"
           }
          ],
          "surface": [
           {
            "colorbar": {
             "outlinewidth": 0,
             "ticks": ""
            },
            "colorscale": [
             [
              0,
              "#0d0887"
             ],
             [
              0.1111111111111111,
              "#46039f"
             ],
             [
              0.2222222222222222,
              "#7201a8"
             ],
             [
              0.3333333333333333,
              "#9c179e"
             ],
             [
              0.4444444444444444,
              "#bd3786"
             ],
             [
              0.5555555555555556,
              "#d8576b"
             ],
             [
              0.6666666666666666,
              "#ed7953"
             ],
             [
              0.7777777777777778,
              "#fb9f3a"
             ],
             [
              0.8888888888888888,
              "#fdca26"
             ],
             [
              1,
              "#f0f921"
             ]
            ],
            "type": "surface"
           }
          ],
          "table": [
           {
            "cells": {
             "fill": {
              "color": "#EBF0F8"
             },
             "line": {
              "color": "white"
             }
            },
            "header": {
             "fill": {
              "color": "#C8D4E3"
             },
             "line": {
              "color": "white"
             }
            },
            "type": "table"
           }
          ]
         },
         "layout": {
          "annotationdefaults": {
           "arrowcolor": "#2a3f5f",
           "arrowhead": 0,
           "arrowwidth": 1
          },
          "coloraxis": {
           "colorbar": {
            "outlinewidth": 0,
            "ticks": ""
           }
          },
          "colorscale": {
           "diverging": [
            [
             0,
             "#8e0152"
            ],
            [
             0.1,
             "#c51b7d"
            ],
            [
             0.2,
             "#de77ae"
            ],
            [
             0.3,
             "#f1b6da"
            ],
            [
             0.4,
             "#fde0ef"
            ],
            [
             0.5,
             "#f7f7f7"
            ],
            [
             0.6,
             "#e6f5d0"
            ],
            [
             0.7,
             "#b8e186"
            ],
            [
             0.8,
             "#7fbc41"
            ],
            [
             0.9,
             "#4d9221"
            ],
            [
             1,
             "#276419"
            ]
           ],
           "sequential": [
            [
             0,
             "#0d0887"
            ],
            [
             0.1111111111111111,
             "#46039f"
            ],
            [
             0.2222222222222222,
             "#7201a8"
            ],
            [
             0.3333333333333333,
             "#9c179e"
            ],
            [
             0.4444444444444444,
             "#bd3786"
            ],
            [
             0.5555555555555556,
             "#d8576b"
            ],
            [
             0.6666666666666666,
             "#ed7953"
            ],
            [
             0.7777777777777778,
             "#fb9f3a"
            ],
            [
             0.8888888888888888,
             "#fdca26"
            ],
            [
             1,
             "#f0f921"
            ]
           ],
           "sequentialminus": [
            [
             0,
             "#0d0887"
            ],
            [
             0.1111111111111111,
             "#46039f"
            ],
            [
             0.2222222222222222,
             "#7201a8"
            ],
            [
             0.3333333333333333,
             "#9c179e"
            ],
            [
             0.4444444444444444,
             "#bd3786"
            ],
            [
             0.5555555555555556,
             "#d8576b"
            ],
            [
             0.6666666666666666,
             "#ed7953"
            ],
            [
             0.7777777777777778,
             "#fb9f3a"
            ],
            [
             0.8888888888888888,
             "#fdca26"
            ],
            [
             1,
             "#f0f921"
            ]
           ]
          },
          "colorway": [
           "#636efa",
           "#EF553B",
           "#00cc96",
           "#ab63fa",
           "#FFA15A",
           "#19d3f3",
           "#FF6692",
           "#B6E880",
           "#FF97FF",
           "#FECB52"
          ],
          "font": {
           "color": "#2a3f5f"
          },
          "geo": {
           "bgcolor": "white",
           "lakecolor": "white",
           "landcolor": "#E5ECF6",
           "showlakes": true,
           "showland": true,
           "subunitcolor": "white"
          },
          "hoverlabel": {
           "align": "left"
          },
          "hovermode": "closest",
          "mapbox": {
           "style": "light"
          },
          "paper_bgcolor": "white",
          "plot_bgcolor": "#E5ECF6",
          "polar": {
           "angularaxis": {
            "gridcolor": "white",
            "linecolor": "white",
            "ticks": ""
           },
           "bgcolor": "#E5ECF6",
           "radialaxis": {
            "gridcolor": "white",
            "linecolor": "white",
            "ticks": ""
           }
          },
          "scene": {
           "xaxis": {
            "backgroundcolor": "#E5ECF6",
            "gridcolor": "white",
            "gridwidth": 2,
            "linecolor": "white",
            "showbackground": true,
            "ticks": "",
            "zerolinecolor": "white"
           },
           "yaxis": {
            "backgroundcolor": "#E5ECF6",
            "gridcolor": "white",
            "gridwidth": 2,
            "linecolor": "white",
            "showbackground": true,
            "ticks": "",
            "zerolinecolor": "white"
           },
           "zaxis": {
            "backgroundcolor": "#E5ECF6",
            "gridcolor": "white",
            "gridwidth": 2,
            "linecolor": "white",
            "showbackground": true,
            "ticks": "",
            "zerolinecolor": "white"
           }
          },
          "shapedefaults": {
           "line": {
            "color": "#2a3f5f"
           }
          },
          "ternary": {
           "aaxis": {
            "gridcolor": "white",
            "linecolor": "white",
            "ticks": ""
           },
           "baxis": {
            "gridcolor": "white",
            "linecolor": "white",
            "ticks": ""
           },
           "bgcolor": "#E5ECF6",
           "caxis": {
            "gridcolor": "white",
            "linecolor": "white",
            "ticks": ""
           }
          },
          "title": {
           "x": 0.05
          },
          "xaxis": {
           "automargin": true,
           "gridcolor": "white",
           "linecolor": "white",
           "ticks": "",
           "title": {
            "standoff": 15
           },
           "zerolinecolor": "white",
           "zerolinewidth": 2
          },
          "yaxis": {
           "automargin": true,
           "gridcolor": "white",
           "linecolor": "white",
           "ticks": "",
           "title": {
            "standoff": 15
           },
           "zerolinecolor": "white",
           "zerolinewidth": 2
          }
         }
        },
        "title": {
         "text": "Consumers: Messages Received"
        },
        "xaxis": {
         "anchor": "y",
         "domain": [
          0,
          1
         ],
         "title": {
          "text": "consumers(node)"
         }
        },
        "yaxis": {
         "anchor": "x",
         "domain": [
          0,
          1
         ],
         "title": {
          "text": "number of messages received"
         }
        }
       }
      }
     },
     "metadata": {}
    }
   ],
   "source": [
    "import pandas as pd\n",
    "import plotly.express as px\n",
    "\n",
    "consumer_messages_receieved_df = run_analytics.export_consumer_messages_received_as_dataframe()\n",
    "bar_chart = px.bar(consumer_messages_receieved_df, title='Consumers: Messages Received', labels={'messages_received': 'number of messages received', 'consumer_names': 'consumers(node)'}, x='consumer_names', y='messages_received')\n",
    "bar_chart.show()\n"
   ]
  },
  {
   "cell_type": "code",
   "execution_count": 7,
   "metadata": {},
   "outputs": [
    {
     "output_type": "display_data",
     "data": {
      "text/plain": "<IPython.core.display.Markdown object>",
      "text/markdown": "\n### Latency Summary Stats: \nNo latency monitors included.\n    "
     },
     "metadata": {}
    }
   ],
   "source": [
    "# Overview of Broker and Latency-Node Latencies\n",
    "# To render both categories in one bar-plot it is best to use just standard Python data structures\n",
    "# box_data is a dict with 'metrics':list(string): the metrics labels/names\n",
    "#                         'latency-node':list(float) : the calculated metrics in the order of metric-labels\n",
    "#                         'broker-node':list(float) : the calculated metrics in the order of metric-labels\n",
    "#\n",
    "bar_data = run_analytics.export_combined_all_distinct_latencies_metrics()\n",
    "\n",
    "import plotly.graph_objects as go\n",
    "\n",
    "title = \"Latency Summary Stats: \"\n",
    "sep = \"\"\n",
    "displayChart = False\n",
    "if run.run_meta.getRuncSpecMonitorLatencyLatencyNodeIsIncluded():\n",
    "    title += \"Latency Node (Network)\"\n",
    "    sep = \", \"\n",
    "    displayChart = True\n",
    "if run.run_meta.getRuncSpecMonitorLatencyBrokerNodeIsIncluded():\n",
    "    title += sep + \"Broker Node (local)\"    \n",
    "    displayChart = True\n",
    "\n",
    "if displayChart:\n",
    "    bar_fig = go.Figure(\n",
    "        data =[\n",
    "            go.Bar(\n",
    "                name=\"Latency Node\",\n",
    "                x=bar_data['metrics'],\n",
    "                y=bar_data['latency-node'],\n",
    "                offsetgroup=0\n",
    "            ),\n",
    "            go.Bar(\n",
    "                name=\"Broker Node\",\n",
    "                x=bar_data['metrics'],\n",
    "                y=bar_data['broker-node'],\n",
    "                offsetgroup=1\n",
    "            )\n",
    "        ],\n",
    "        layout=go.Layout(\n",
    "            title=title,\n",
    "            yaxis_title=\"latency [micros]\"\n",
    "        )\n",
    "    )\n",
    "    bar_fig.show()\n",
    "else:\n",
    "    from IPython.display import Markdown, display\n",
    "    md = f\"\"\"\n",
    "### {title}\n",
    "No latency monitors included.\n",
    "    \"\"\"\n",
    "    display(Markdown(md))\n"
   ]
  },
  {
   "cell_type": "code",
   "execution_count": 8,
   "metadata": {},
   "outputs": [
    {
     "output_type": "display_data",
     "data": {
      "text/plain": "<IPython.core.display.Markdown object>",
      "text/markdown": "\n\n## Run Settings\n* Description: \"base run: 1 publisher, 40 consumers, 40 topics, fan-out=1:1, 50K msgs/sec, 100 bytes\"\n\n|General                    |                                                   | | Infrastructure:           | cloud provider:aws                                        |      |   |  \n|:--------------------------|:--------------------------------------------------|-|:--------------------------|:----------------------------------------------------------------------------|:-----|:--|\n|Run name:                  |base_run                                    | |aws.devel1-standalone      |region: eu-central-1, zone: auto                     |      |   |                                              \n|Run Id:                    |2020-11-12-11-50-32                                      | |Broker Node:               |nodes: 1<br/>type: m5a.8xlarge, cores: 16             |      |   |\n|Run Start:                 |2020-11-12 11:51:02                                | |Load<br/>Publisher Nodes:  |nodes: 1<br/>type: m5a.xlarge, cores: 2       |      |   |\n|Run End:                   |2020-11-12 11:54:28                                  | |Load<br/>Consumer Nodes:   |nodes: 4 <br/>type: m5a.xlarge, cores: 2        |      |   |\n|Run Duration:              |0:03:26                              | |Monitor Node:              |nodes: 1 <br/>type: m5a.xlarge, cores: 2          |      |   |  \n|Sample Duration (secs):    |60        | |Solace PubSub+             | solace-pubsub-evaluation:9.7.0.29                                                |      |   | \n|Number of Samples:         |3           | |                           |                                                                             |      |   | \n\n\n|Load|                                                                          | | Monitors   |                              |                                                                 |  \n|:--|:--------------------------------------------------------------------------|-|:-----------|:-----------------------------|:----------------------------------------------------------------|\n|Included:              |**True**                 | |**Latency** |                              |                                                                 |  \n|Connections @ start:   |3                | | |Latency Node to Broker Node - included:  |**False**      |    \n|Connections @ end:     |3                  | | |Broker Node to Broker Node - included:   |**False**       |      \n|Publishers:            |1              | | |Payload (bytes):                         |n/a             |      \n| - Payload (bytes):    |100      | | |Rate (1/sec):                            |n/a                   |      \n| - Rate (1/sec):       |100       | |**Ping**       | included:                 |**False**                    |  \n| - Topics:             |3      | |**Broker VPN** | included:                 |**True**                     |  \n|Consumers:             |2 | |               |                           |                                                                 |   \n\n            "
     },
     "metadata": {}
    }
   ],
   "source": [
    "\n",
    "from IPython.display import Markdown, display\n",
    "display(Markdown(run.run_meta.getAsMarkdown()))\n"
   ]
  },
  {
   "cell_type": "code",
   "execution_count": 9,
   "metadata": {},
   "outputs": [
    {
     "output_type": "stream",
     "name": "stdout",
     "text": [
      "Latency Node to Broker Node: not included\n"
     ]
    }
   ],
   "source": [
    "if run.run_meta.getRuncSpecMonitorLatencyLatencyNodeIsIncluded():\n",
    "    import plotly.express as px\n",
    "    df_lat_lat_node = run_analytics.export_latency_node_series_latencies_metrics_as_dataframe()\n",
    "    fig_line = px.line(df_lat_lat_node,\n",
    "                    title=\"Latency Percentiles: Latency Node to Broker Node (Network)\",\n",
    "                    labels={\"value\":\"latency [micros]\", \"index\":\"sample [number]\"})\n",
    "    fig_line.show()\n",
    "else: \n",
    "    print(\"Latency Node to Broker Node: not included\")\n"
   ]
  },
  {
   "source": [
    "# Latency Stats: Broker Node to Broker Node (local)"
   ],
   "cell_type": "markdown",
   "metadata": {}
  },
  {
   "cell_type": "code",
   "execution_count": 10,
   "metadata": {},
   "outputs": [
    {
     "output_type": "stream",
     "name": "stdout",
     "text": [
      "Broker Node to Broker Node: not included\n"
     ]
    }
   ],
   "source": [
    "if run.run_meta.getRuncSpecMonitorLatencyBrokerNodeIsIncluded():\n",
    "    import plotly.express as px\n",
    "    df_lat_broker_node = run_analytics.export_broker_node_series_latencies_metrics_as_dataframe()\n",
    "    fig_line = px.line(df_lat_broker_node,\n",
    "                    title=\"Latency Percentiles: Broker Node to Broker Node (local)\",\n",
    "                    labels={\"value\":\"latency [micros]\", \"index\":\"sample [number]\"})\n",
    "    fig_line.show()\n",
    "else: \n",
    "    print(\"Broker Node to Broker Node: not included\")"
   ]
  },
  {
   "source": [
    "# Latency (raw data): Latency Node to Broker Node (Network)"
   ],
   "cell_type": "markdown",
   "metadata": {}
  },
  {
   "cell_type": "code",
   "execution_count": 11,
   "metadata": {},
   "outputs": [
    {
     "output_type": "stream",
     "name": "stdout",
     "text": [
      "Latency Node to Broker Node: not included\n"
     ]
    }
   ],
   "source": [
    "if run.run_meta.getRuncSpecMonitorLatencyLatencyNodeIsIncluded():\n",
    "    import plotly.express as px\n",
    "    df_lat_raw_lat_node = run_analytics.export_latency_node_distinct_latencies_as_dataframe()\n",
    "    fig_line = px.line(df_lat_raw_lat_node,\n",
    "                    title=\"Latency (raw data): Latency Node to Broker Node (network)\",\n",
    "                    labels={\"value\":\"latency [micros]\", \"index\":\"message [number]\"})\n",
    "    fig_line.show()\n",
    "else: \n",
    "    print(\"Latency Node to Broker Node: not included\")"
   ]
  },
  {
   "source": [
    "# Latency (raw data): Broker Node to Broker Node (local)"
   ],
   "cell_type": "markdown",
   "metadata": {}
  },
  {
   "cell_type": "code",
   "execution_count": 12,
   "metadata": {},
   "outputs": [
    {
     "output_type": "stream",
     "name": "stdout",
     "text": [
      "Broker Node to Broker Node: not included\n"
     ]
    }
   ],
   "source": [
    "if run.run_meta.getRuncSpecMonitorLatencyBrokerNodeIsIncluded():\n",
    "    import plotly.express as px\n",
    "    df_lat_raw_broker_node = run_analytics.export_broker_node_distinct_latencies_as_dataframe()\n",
    "    fig_line = px.line(df_lat_raw_broker_node,\n",
    "                    title=\"Latency (raw data): Broker Node to Broker Node (local)\",\n",
    "                    labels={\"value\":\"latency [micros]\", \"index\":\"message [number]\"})\n",
    "    fig_line.show()\n",
    "else: \n",
    "    print(\"Broker Node to Broker Node: not included\")"
   ]
  },
  {
   "source": [
    "# Ping Statistics: Latency Node to Broker Node (Network)"
   ],
   "cell_type": "markdown",
   "metadata": {}
  },
  {
   "cell_type": "code",
   "execution_count": 13,
   "metadata": {},
   "outputs": [
    {
     "output_type": "stream",
     "name": "stdout",
     "text": [
      "Ping Statistics: not included\n"
     ]
    }
   ],
   "source": [
    "if run.run_meta.getRuncSpecMonitorPingIsIncluded():\n",
    "    import plotly.express as px\n",
    "    df_ping = run_analytics.export_ping_series_as_columns_dataframe()\n",
    "    fig_line = px.line(df_ping,\n",
    "                        title=\"Ping Statistics: Latency Node to Broker Node (Network)\",\n",
    "                        labels={\"value\":\"latency [micros]\", \"index\":\"sample [number]\"})\n",
    "    fig_line.show()    \n",
    "else: \n",
    "    print(\"Ping Statistics: not included\")"
   ]
  },
  {
   "source": [
    "---\n",
    "The End."
   ],
   "cell_type": "markdown",
   "metadata": {}
  }
 ],
 "metadata": {
  "kernelspec": {
   "display_name": "Python 3",
   "language": "python",
   "name": "python3"
  },
  "language_info": {
   "codemirror_mode": {
    "name": "ipython",
    "version": 3
   },
   "file_extension": ".py",
   "mimetype": "text/x-python",
   "name": "python",
   "nbconvert_exporter": "python",
   "pygments_lexer": "ipython3",
   "version": "3.8.6-final"
  }
 },
 "nbformat": 4,
 "nbformat_minor": 4
}