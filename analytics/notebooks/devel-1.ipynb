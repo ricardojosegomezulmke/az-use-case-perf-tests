{
 "cells": [
  {
   "source": [
    "# DEVEL-1 NOTEBOOK"
   ],
   "cell_type": "markdown",
   "metadata": {}
  },
  {
   "cell_type": "code",
   "execution_count": 1,
   "metadata": {},
   "outputs": [
    {
     "output_type": "stream",
     "name": "stdout",
     "text": [
      "enableLoggingEnvVal=true\nlogFile=./devel-1.ipynb.log\nANALYTICS_ENABLE_LOGGING=true\nANALYTICS_LOG_FILE=./devel-1.ipynb.log\nNOTEBOOK_RESULTS_LOCATION_DIR=../testresults/aws.1-auto-standalone\nNOTEBOOK_RUN_ID=2020-11-02-19-23-51\n"
     ]
    }
   ],
   "source": [
    "# Check if running in production mode \n",
    "# if not, set devel envs here\n",
    "\n",
    "import os\n",
    "from distutils.util import strtobool\n",
    "\n",
    "notebook_run_production_mode_env_val=os.getenv(\"NOTEBOOK_RUN_PRODUCTION_MODE\")\n",
    "if notebook_run_production_mode_env_val is not None:\n",
    "    is_notebook_run_production_mode = bool(strtobool(notebook_run_production_mode_env_val))\n",
    "else:\n",
    "    is_notebook_run_production_mode = False\n",
    "\n",
    "if not is_notebook_run_production_mode:\n",
    "    os.environ['ANALYTICS_ENABLE_LOGGING'] = \"true\"    \n",
    "    os.environ['ANALYTICS_LOG_FILE'] = \"./devel-1.ipynb.log\"    \n",
    "    # azure\n",
    "    # os.environ['NOTEBOOK_RESULTS_LOCATION_DIR'] = \"../testresults/azure.1-auto-standalone\"\n",
    "    # aws\n",
    "    os.environ['NOTEBOOK_RESULTS_LOCATION_DIR'] = \"../testresults/aws.1-auto-standalone\"\n",
    "    # with load: \n",
    "    # os.environ['NOTEBOOK_RUN_ID'] = \"2020-11-02-18-36-10\"\n",
    "    # without load:\n",
    "    os.environ['NOTEBOOK_RUN_ID'] = \"2020-11-02-19-23-51\"\n",
    "    \n",
    "\n",
    "from lib import _util\n",
    "\n",
    "if not is_notebook_run_production_mode:\n",
    "    _util.testPrintMe()\n",
    "    _util.testLogMe()\n",
    "\n",
    "\n",
    "# print env vars\n",
    "print(\"ANALYTICS_ENABLE_LOGGING={}\".format(os.getenv('ANALYTICS_ENABLE_LOGGING')))\n",
    "print(\"ANALYTICS_LOG_FILE={}\".format(os.getenv('ANALYTICS_LOG_FILE')))\n",
    "print(\"NOTEBOOK_RESULTS_LOCATION_DIR={}\".format(os.getenv('NOTEBOOK_RESULTS_LOCATION_DIR')))\n",
    "print(\"NOTEBOOK_RUN_ID={}\".format(os.getenv('NOTEBOOK_RUN_ID')))\n",
    "\n",
    "\n",
    "\n"
   ]
  },
  {
   "cell_type": "code",
   "execution_count": 2,
   "metadata": {},
   "outputs": [
    {
     "output_type": "stream",
     "name": "stdout",
     "text": [
      "results_location_dir='../testresults/aws.1-auto-standalone'\nrun_id='2020-11-02-19-23-51'\nmeta=[RunMeta: [infrastructure: aws.1-auto-standalone] [run_id: 2020-11-02-19-23-51] [run_duration: 0:10:58]]\n"
     ]
    }
   ],
   "source": [
    "from lib import run_definition\n",
    "from lib import run_result_location\n",
    "from lib import constants\n",
    "from lib import run\n",
    "from os import path\n",
    "\n",
    "import json\n",
    "\n",
    "# import numpy as np\n",
    "# import pandas as pd\n",
    "# from jsonpath_ng import jsonpath, parse\n",
    "# import matplotlib.pyplot as plt\n",
    "# import seaborn as sns\n",
    "# import plotly.express as px\n",
    "# import plotly.graph_objects as go\n",
    "\n",
    "results_location_dir = os.getenv('NOTEBOOK_RESULTS_LOCATION_DIR')\n",
    "run_id = os.getenv('NOTEBOOK_RUN_ID')\n",
    "\n",
    "import logging\n",
    "logging.debug(\"results_location_dir='{}'\".format(results_location_dir))\n",
    "print(\"results_location_dir='{}'\".format(results_location_dir))\n",
    "logging.debug(\"run_id='{}'\".format(run_id))\n",
    "print(\"run_id='{}'\".format(run_id))\n",
    "# import sys \n",
    "# sys.exit(1)\n",
    "\n",
    "# %matplotlib inline\n",
    "#global defaults of graphics size\n",
    "# plt.rcParams[\"figure.figsize\"] = [50, 50]\n",
    "\n",
    "location = run_result_location.RunResultLocation(results_location_dir)\n",
    "\n",
    "runDefinition = run_definition.RunDefinition(location)\n",
    "runDefinition.process_run_samples()\n",
    "run = runDefinition.find_run(run_id, False)\n",
    "meta = run.run_meta\n",
    "\n",
    "# df_latencies = pd.DataFrame(data={'run1': run.export_latency_node_distinct_latencies()})\n",
    "# df_broker_latencies = pd.DataFrame(data={'run1': run.export_broker_node_distinct_latencies()})\n",
    "# df_ping = pd.DataFrame(run.export_ping_series(constants.c_ping_all_metrics))\n",
    "\n",
    "# print(\"meta={}\".format(json.dumps(meta, indent=2)))\n",
    "print(\"meta={}\".format(meta))\n",
    "\n"
   ]
  },
  {
   "cell_type": "code",
   "execution_count": 3,
   "metadata": {},
   "outputs": [
    {
     "output_type": "display_data",
     "data": {
      "text/plain": "<IPython.core.display.Markdown object>",
      "text/markdown": "\n  ---\n\n## Run Settings\nDescription: \"base run without any load\"\n\n### General\n\n- Infrastructure: aws.1-auto-standalone\n- Run name: test_base_run\n- Run Id: 2020-11-02-19-23-51\n- Run Start: 2020-11-02 19:23:51\n- Run End: 2020-11-02 19:34:49\n- Run Duration: 0:10:58\n  - Sample Duration (secs): 60\n  - Number of Samples: 10\n\n### Infrastructure\n\n- Broker Node: ERROR: unknown node spec for cloud_provider:aws\n- Monitor Nodes: type: m5a.xlarge, cores: 2\n\n### Load\n\nIncluded: **False**\n- Num client connections @ run start: 0\n- Num client connections @ run end: 0\n- Publishers\n  - number of publishers: n/a\n  - message payload size (bytes): n/a\n  - total message rate (sec): n/a\n  - total number of topics: n/a\n- Consumers\n  - number of consumers: n/a\n\n### Monitor: Latency\n\nLatency Node to Broker Node (Network) included: **True**\n\nBroker Node to Broker Node (local) included: **True**\n\n- measure each message: True\n- message payload size (bytes): 1,000\n- message rate (sec): 100\n\n### Monitor Ping\n\nLatency Node to Broker Node (Network)\n\nIncluded: **True**\n\n### Monitor Solace Broker VPN Stats\nIncluded: **True**\n\n\n  ---\n\n            "
     },
     "metadata": {}
    }
   ],
   "source": [
    "\n",
    "from IPython.display import Markdown, display\n",
    "display(Markdown(meta.getAsMarkdown()))\n"
   ]
  },
  {
   "cell_type": "markdown",
   "metadata": {
    "pycharm": {
     "name": "#%% md\n"
    }
   },
   "source": [
    "# Key Metrics\n",
    "\n",
    "### Latency Node Basic Stats"
   ]
  }
 ],
 "metadata": {
  "kernelspec": {
   "display_name": "Python 3",
   "language": "python",
   "name": "python3"
  },
  "language_info": {
   "codemirror_mode": {
    "name": "ipython",
    "version": 3
   },
   "file_extension": ".py",
   "mimetype": "text/x-python",
   "name": "python",
   "nbconvert_exporter": "python",
   "pygments_lexer": "ipython3",
   "version": "3.8.6-final"
  }
 },
 "nbformat": 4,
 "nbformat_minor": 4
}