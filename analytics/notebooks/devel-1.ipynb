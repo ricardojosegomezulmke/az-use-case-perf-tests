{
 "cells": [
  {
   "source": [
    "# DEVEL-1 NOTEBOOK"
   ],
   "cell_type": "markdown",
   "metadata": {}
  },
  {
   "cell_type": "code",
   "execution_count": 1,
   "metadata": {},
   "outputs": [
    {
     "output_type": "stream",
     "name": "stdout",
     "text": [
      "enableLoggingEnvVal=true\nlogFile=./devel-1.ipynb.log\nANALYTICS_ENABLE_LOGGING=true\nANALYTICS_LOG_FILE=./devel-1.ipynb.log\nNOTEBOOK_RESULTS_LOCATION_DIR=../testresults/aws.1-auto-standalone\nNOTEBOOK_RUN_ID=2020-11-02-18-36-10\n"
     ]
    }
   ],
   "source": [
    "# Check if running in production mode \n",
    "# if not, set devel envs here\n",
    "\n",
    "import os\n",
    "from distutils.util import strtobool\n",
    "\n",
    "notebook_run_production_mode_env_val=os.getenv(\"NOTEBOOK_RUN_PRODUCTION_MODE\")\n",
    "if notebook_run_production_mode_env_val is not None:\n",
    "    is_notebook_run_production_mode = bool(strtobool(notebook_run_production_mode_env_val))\n",
    "else:\n",
    "    is_notebook_run_production_mode = False\n",
    "\n",
    "if not is_notebook_run_production_mode:\n",
    "    os.environ['ANALYTICS_ENABLE_LOGGING'] = \"true\"    \n",
    "    os.environ['ANALYTICS_LOG_FILE'] = \"./devel-1.ipynb.log\"    \n",
    "    # azure\n",
    "    # os.environ['NOTEBOOK_RESULTS_LOCATION_DIR'] = \"../testresults/azure.1-auto-standalone\"\n",
    "    # aws\n",
    "    os.environ['NOTEBOOK_RESULTS_LOCATION_DIR'] = \"../testresults/aws.1-auto-standalone\"\n",
    "    # with load: \n",
    "    os.environ['NOTEBOOK_RUN_ID'] = \"2020-11-02-18-36-10\"\n",
    "    # without load:\n",
    "    # os.environ['NOTEBOOK_RUN_ID'] = \"2020-11-02-19-23-51\"\n",
    "    \n",
    "\n",
    "from lib import _util\n",
    "\n",
    "if not is_notebook_run_production_mode:\n",
    "    _util.testPrintMe()\n",
    "    _util.testLogMe()\n",
    "\n",
    "\n",
    "# print env vars\n",
    "print(\"ANALYTICS_ENABLE_LOGGING={}\".format(os.getenv('ANALYTICS_ENABLE_LOGGING')))\n",
    "print(\"ANALYTICS_LOG_FILE={}\".format(os.getenv('ANALYTICS_LOG_FILE')))\n",
    "print(\"NOTEBOOK_RESULTS_LOCATION_DIR={}\".format(os.getenv('NOTEBOOK_RESULTS_LOCATION_DIR')))\n",
    "print(\"NOTEBOOK_RUN_ID={}\".format(os.getenv('NOTEBOOK_RUN_ID')))\n",
    "\n",
    "\n",
    "\n"
   ]
  },
  {
   "source": [
    "Generated on: todo"
   ],
   "cell_type": "markdown",
   "metadata": {}
  },
  {
   "cell_type": "code",
   "execution_count": 2,
   "metadata": {},
   "outputs": [],
   "source": [
    "from lib import run_definition\n",
    "from lib import run_result_location\n",
    "from lib import constants\n",
    "from lib import run\n",
    "from lib import run_analytics\n",
    "from os import path\n",
    "\n",
    "import json\n",
    "\n",
    "# import numpy as np\n",
    "# import pandas as pd\n",
    "# from jsonpath_ng import jsonpath, parse\n",
    "# import matplotlib.pyplot as plt\n",
    "# import seaborn as sns\n",
    "# import plotly.express as px\n",
    "# import plotly.graph_objects as go\n",
    "\n",
    "results_location_dir = os.getenv('NOTEBOOK_RESULTS_LOCATION_DIR')\n",
    "run_id = os.getenv('NOTEBOOK_RUN_ID')\n",
    "\n",
    "# import logging\n",
    "# logging.debug(\"results_location_dir='{}'\".format(results_location_dir))\n",
    "# print(\"results_location_dir='{}'\".format(results_location_dir))\n",
    "# logging.debug(\"run_id='{}'\".format(run_id))\n",
    "# print(\"run_id='{}'\".format(run_id))\n",
    "\n",
    "# plt.rcParams[\"figure.figsize\"] = [50, 50]\n",
    "\n",
    "location = run_result_location.RunResultLocation(results_location_dir)\n",
    "\n",
    "runDefinition = run_definition.RunDefinition(location)\n",
    "runDefinition.process_run_samples()\n",
    "run = runDefinition.find_run(run_id, True)\n",
    "run_analytics = run_analytics.RunAnalytics(run)\n",
    "\n"
   ]
  },
  {
   "cell_type": "code",
   "execution_count": 3,
   "metadata": {},
   "outputs": [
    {
     "output_type": "display_data",
     "data": {
      "text/plain": "<IPython.core.display.Markdown object>",
      "text/markdown": "\n\n## Run Settings\nDescription: \"base run with 10 topics per publisher, 100 bytes\"\n\nTest Spec:\n- name: 1_auto\n- description: TODO\n\n### General\n\n- Infrastructure: aws.1-auto-standalone\n- Run name: test_10_topics_100bytes\n- Run Id: 2020-11-02-18-36-10\n- Run Start: 2020-11-02 18:36:57\n- Run End: 2020-11-02 18:47:54\n- Run Duration: 0:10:57\n  - Sample Duration (secs): 60\n  - Number of Samples: 10\n\n### Infrastructure\n\n- Broker Node: \n    - number of nodes: 1\n    - spec: type: m5a.8xlarge, cores: 16\n- Load Nodes\n    - Publishers\n        - number of nodes: TODO: needs inventory in meta\n        - spec: type: m5a.xlarge, cores: 2\n    - Consumers\n        - number of nodes: TODO: needs inventory in meta\n        - spec: type: m5a.xlarge, cores: 2\n- Monitor Node:\n    - number of nodes: 1\n    - spec: type: m5a.xlarge, cores: 2\n\n### Load\n\nIncluded: **True**\n- Num client connections @ run start: 12\n- Num client connections @ run end: 12\n- Publishers\n  - number of publishers: 4\n  - message payload size (bytes): 100\n  - total message rate (sec): 60,000\n  - total number of topics: 40\n- Consumers\n  - number of consumers: 4\n\n### Monitor: Latency\n\nLatency Node to Broker Node (Network) included: **True**\n\nBroker Node to Broker Node (local) included: **True**\n\n- measure each message: True\n- message payload size (bytes): 1,000\n- message rate (sec): 100\n\n### Monitor Ping\n\nLatency Node to Broker Node (Network)\n\nIncluded: **True**\n\n### Monitor Solace Broker VPN Stats\nIncluded: **True**\n\n\n  ---\n\n            "
     },
     "metadata": {}
    }
   ],
   "source": [
    "\n",
    "from IPython.display import Markdown, display\n",
    "display(Markdown(run.run_meta.getAsMarkdown()))\n"
   ]
  },
  {
   "cell_type": "code",
   "execution_count": 4,
   "metadata": {},
   "outputs": [
    {
     "output_type": "display_data",
     "data": {
      "text/plain": "<IPython.core.display.Markdown object>",
      "text/markdown": "\n## Run Overview\n\n**Avg Fan-out ratio: 3.93 to 1**\n\nNumber of messages:\n* received: 200,485,344\n* sent: 788,738,402\n\nNumber discarded messages: \n* received: 0\n* sent: 0\n\nAvg message rates (1/sec):\n* received: 58,272\n* sent: 229,848\n\n\n  ---      \n\n        "
     },
     "metadata": {}
    }
   ],
   "source": [
    "from IPython.display import Markdown, display\n",
    "display(Markdown(run.broker_series.getChecksAsMarkdown()))\n"
   ]
  },
  {
   "cell_type": "code",
   "execution_count": 6,
   "metadata": {},
   "outputs": [
    {
     "output_type": "display_data",
     "data": {
      "application/vnd.plotly.v1+json": {
       "config": {
        "plotlyServerURL": "https://plot.ly"
       },
       "data": [
        {
         "hovertemplate": "variable=minimum<br>sample [number]=%{x}<br>latency [micros]=%{y}<extra></extra>",
         "legendgroup": "minimum",
         "line": {
          "color": "#636efa",
          "dash": "solid"
         },
         "mode": "lines",
         "name": "minimum",
         "orientation": "v",
         "showlegend": true,
         "type": "scatter",
         "x": [
          0,
          1,
          2,
          3,
          4,
          5,
          6,
          7,
          8,
          9
         ],
         "xaxis": "x",
         "y": [
          172,
          170,
          136,
          168,
          172,
          179,
          158,
          126,
          162,
          179
         ],
         "yaxis": "y"
        },
        {
         "hovertemplate": "variable=maximum<br>sample [number]=%{x}<br>latency [micros]=%{y}<extra></extra>",
         "legendgroup": "maximum",
         "line": {
          "color": "#EF553B",
          "dash": "solid"
         },
         "mode": "lines",
         "name": "maximum",
         "orientation": "v",
         "showlegend": true,
         "type": "scatter",
         "x": [
          0,
          1,
          2,
          3,
          4,
          5,
          6,
          7,
          8,
          9
         ],
         "xaxis": "x",
         "y": [
          894,
          1780,
          781,
          2281,
          825,
          7521,
          690,
          1257,
          728,
          779
         ],
         "yaxis": "y"
        },
        {
         "hovertemplate": "variable=average<br>sample [number]=%{x}<br>latency [micros]=%{y}<extra></extra>",
         "legendgroup": "average",
         "line": {
          "color": "#00cc96",
          "dash": "solid"
         },
         "mode": "lines",
         "name": "average",
         "orientation": "v",
         "showlegend": true,
         "type": "scatter",
         "x": [
          0,
          1,
          2,
          3,
          4,
          5,
          6,
          7,
          8,
          9
         ],
         "xaxis": "x",
         "y": [
          265.8763,
          285.14445,
          268.2025,
          250.8856,
          265.02225,
          256.148275,
          253.914375,
          249.728925,
          262.386725,
          265.6355
         ],
         "yaxis": "y"
        },
        {
         "hovertemplate": "variable=00_05th<br>sample [number]=%{x}<br>latency [micros]=%{y}<extra></extra>",
         "legendgroup": "00_05th",
         "line": {
          "color": "#ab63fa",
          "dash": "solid"
         },
         "mode": "lines",
         "name": "00_05th",
         "orientation": "v",
         "showlegend": true,
         "type": "scatter",
         "x": [
          0,
          1,
          2,
          3,
          4,
          5,
          6,
          7,
          8,
          9
         ],
         "xaxis": "x",
         "y": [
          212,
          222,
          162,
          179,
          197,
          199,
          194,
          165,
          190,
          196
         ],
         "yaxis": "y"
        },
        {
         "hovertemplate": "variable=01th<br>sample [number]=%{x}<br>latency [micros]=%{y}<extra></extra>",
         "legendgroup": "01th",
         "line": {
          "color": "#FFA15A",
          "dash": "solid"
         },
         "mode": "lines",
         "name": "01th",
         "orientation": "v",
         "showlegend": true,
         "type": "scatter",
         "x": [
          0,
          1,
          2,
          3,
          4,
          5,
          6,
          7,
          8,
          9
         ],
         "xaxis": "x",
         "y": [
          217,
          225,
          167,
          186,
          200,
          203,
          197,
          171,
          193,
          199
         ],
         "yaxis": "y"
        },
        {
         "hovertemplate": "variable=00_5th<br>sample [number]=%{x}<br>latency [micros]=%{y}<extra></extra>",
         "legendgroup": "00_5th",
         "line": {
          "color": "#19d3f3",
          "dash": "solid"
         },
         "mode": "lines",
         "name": "00_5th",
         "orientation": "v",
         "showlegend": true,
         "type": "scatter",
         "x": [
          0,
          1,
          2,
          3,
          4,
          5,
          6,
          7,
          8,
          9
         ],
         "xaxis": "x",
         "y": [
          231,
          232,
          182,
          199,
          208,
          212,
          204,
          186,
          203,
          205
         ],
         "yaxis": "y"
        },
        {
         "hovertemplate": "variable=10th<br>sample [number]=%{x}<br>latency [micros]=%{y}<extra></extra>",
         "legendgroup": "10th",
         "line": {
          "color": "#FF6692",
          "dash": "solid"
         },
         "mode": "lines",
         "name": "10th",
         "orientation": "v",
         "showlegend": true,
         "type": "scatter",
         "x": [
          0,
          1,
          2,
          3,
          4,
          5,
          6,
          7,
          8,
          9
         ],
         "xaxis": "x",
         "y": [
          237,
          236,
          191,
          206,
          212,
          216,
          208,
          194,
          208,
          210
         ],
         "yaxis": "y"
        },
        {
         "hovertemplate": "variable=25th<br>sample [number]=%{x}<br>latency [micros]=%{y}<extra></extra>",
         "legendgroup": "25th",
         "line": {
          "color": "#B6E880",
          "dash": "solid"
         },
         "mode": "lines",
         "name": "25th",
         "orientation": "v",
         "showlegend": true,
         "type": "scatter",
         "x": [
          0,
          1,
          2,
          3,
          4,
          5,
          6,
          7,
          8,
          9
         ],
         "xaxis": "x",
         "y": [
          244,
          248,
          211,
          213,
          219,
          223,
          214,
          209,
          220,
          221
         ],
         "yaxis": "y"
        },
        {
         "hovertemplate": "variable=50th<br>sample [number]=%{x}<br>latency [micros]=%{y}<extra></extra>",
         "legendgroup": "50th",
         "line": {
          "color": "#FF97FF",
          "dash": "solid"
         },
         "mode": "lines",
         "name": "50th",
         "orientation": "v",
         "showlegend": true,
         "type": "scatter",
         "x": [
          0,
          1,
          2,
          3,
          4,
          5,
          6,
          7,
          8,
          9
         ],
         "xaxis": "x",
         "y": [
          253,
          266,
          237,
          227,
          230,
          232,
          225,
          230,
          233,
          235
         ],
         "yaxis": "y"
        },
        {
         "hovertemplate": "variable=75th<br>sample [number]=%{x}<br>latency [micros]=%{y}<extra></extra>",
         "legendgroup": "75th",
         "line": {
          "color": "#FECB52",
          "dash": "solid"
         },
         "mode": "lines",
         "name": "75th",
         "orientation": "v",
         "showlegend": true,
         "type": "scatter",
         "x": [
          0,
          1,
          2,
          3,
          4,
          5,
          6,
          7,
          8,
          9
         ],
         "xaxis": "x",
         "y": [
          277,
          289,
          292,
          257.25,
          295,
          260,
          288,
          269,
          287,
          282
         ],
         "yaxis": "y"
        },
        {
         "hovertemplate": "variable=90th<br>sample [number]=%{x}<br>latency [micros]=%{y}<extra></extra>",
         "legendgroup": "90th",
         "line": {
          "color": "#636efa",
          "dash": "solid"
         },
         "mode": "lines",
         "name": "90th",
         "orientation": "v",
         "showlegend": true,
         "type": "scatter",
         "x": [
          0,
          1,
          2,
          3,
          4,
          5,
          6,
          7,
          8,
          9
         ],
         "xaxis": "x",
         "y": [
          320,
          360,
          413,
          352,
          375,
          344,
          344,
          327,
          368,
          367
         ],
         "yaxis": "y"
        },
        {
         "hovertemplate": "variable=95th<br>sample [number]=%{x}<br>latency [micros]=%{y}<extra></extra>",
         "legendgroup": "95th",
         "line": {
          "color": "#EF553B",
          "dash": "solid"
         },
         "mode": "lines",
         "name": "95th",
         "orientation": "v",
         "showlegend": true,
         "type": "scatter",
         "x": [
          0,
          1,
          2,
          3,
          4,
          5,
          6,
          7,
          8,
          9
         ],
         "xaxis": "x",
         "y": [
          346,
          418.04999999999563,
          459,
          395,
          418,
          383,
          372,
          365,
          408,
          433
         ],
         "yaxis": "y"
        },
        {
         "hovertemplate": "variable=99th<br>sample [number]=%{x}<br>latency [micros]=%{y}<extra></extra>",
         "legendgroup": "99th",
         "line": {
          "color": "#00cc96",
          "dash": "solid"
         },
         "mode": "lines",
         "name": "99th",
         "orientation": "v",
         "showlegend": true,
         "type": "scatter",
         "x": [
          0,
          1,
          2,
          3,
          4,
          5,
          6,
          7,
          8,
          9
         ],
         "xaxis": "x",
         "y": [
          390,
          568,
          545.010000000002,
          464,
          494,
          451,
          421,
          552,
          491,
          541
         ],
         "yaxis": "y"
        },
        {
         "hovertemplate": "variable=99_5th<br>sample [number]=%{x}<br>latency [micros]=%{y}<extra></extra>",
         "legendgroup": "99_5th",
         "line": {
          "color": "#ab63fa",
          "dash": "solid"
         },
         "mode": "lines",
         "name": "99_5th",
         "orientation": "v",
         "showlegend": true,
         "type": "scatter",
         "x": [
          0,
          1,
          2,
          3,
          4,
          5,
          6,
          7,
          8,
          9
         ],
         "xaxis": "x",
         "y": [
          407,
          588.0049999999974,
          580,
          485,
          523,
          473,
          443.0049999999974,
          576,
          518,
          575
         ],
         "yaxis": "y"
        },
        {
         "hovertemplate": "variable=99_9th<br>sample [number]=%{x}<br>latency [micros]=%{y}<extra></extra>",
         "legendgroup": "99_9th",
         "line": {
          "color": "#FFA15A",
          "dash": "solid"
         },
         "mode": "lines",
         "name": "99_9th",
         "orientation": "v",
         "showlegend": true,
         "type": "scatter",
         "x": [
          0,
          1,
          2,
          3,
          4,
          5,
          6,
          7,
          8,
          9
         ],
         "xaxis": "x",
         "y": [
          473.0050000000192,
          638.0010000000038,
          653.0010000000038,
          539.0010000000038,
          601,
          518.0010000000038,
          526,
          624,
          584.0010000000038,
          623
         ],
         "yaxis": "y"
        },
        {
         "hovertemplate": "variable=99_95th<br>sample [number]=%{x}<br>latency [micros]=%{y}<extra></extra>",
         "legendgroup": "99_95th",
         "line": {
          "color": "#19d3f3",
          "dash": "solid"
         },
         "mode": "lines",
         "name": "99_95th",
         "orientation": "v",
         "showlegend": true,
         "type": "scatter",
         "x": [
          0,
          1,
          2,
          3,
          4,
          5,
          6,
          7,
          8,
          9
         ],
         "xaxis": "x",
         "y": [
          517.0015000000058,
          656.0005000000019,
          680.0010000000038,
          574.0005000000019,
          632.0005000000019,
          546.0015000000058,
          560.0010000000038,
          646,
          615,
          639.0005000000019
         ],
         "yaxis": "y"
        },
        {
         "hovertemplate": "variable=99_99th<br>sample [number]=%{x}<br>latency [micros]=%{y}<extra></extra>",
         "legendgroup": "99_99th",
         "line": {
          "color": "#FF6692",
          "dash": "solid"
         },
         "mode": "lines",
         "name": "99_99th",
         "orientation": "v",
         "showlegend": true,
         "type": "scatter",
         "x": [
          0,
          1,
          2,
          3,
          4,
          5,
          6,
          7,
          8,
          9
         ],
         "xaxis": "x",
         "y": [
          554.0006999999823,
          702.0008999999773,
          740.0000999999975,
          1081.0055999998585,
          684.0023999999394,
          3528.0998999974763,
          647.0006999999823,
          683.0031999999192,
          711,
          698.0005999999848
         ],
         "yaxis": "y"
        },
        {
         "hovertemplate": "variable=99_995th<br>sample [number]=%{x}<br>latency [micros]=%{y}<extra></extra>",
         "legendgroup": "99_995th",
         "line": {
          "color": "#B6E880",
          "dash": "solid"
         },
         "mode": "lines",
         "name": "99_995th",
         "orientation": "v",
         "showlegend": true,
         "type": "scatter",
         "x": [
          0,
          1,
          2,
          3,
          4,
          5,
          6,
          7,
          8,
          9
         ],
         "xaxis": "x",
         "y": [
          594.0109000005177,
          725.0029000001377,
          760.0004500000214,
          1286.005750000273,
          716.0031000001472,
          5527.0499500023725,
          681.0002500000119,
          781.0233500011091,
          720,
          725.0009500000451
         ],
         "yaxis": "y"
        },
        {
         "hovertemplate": "variable=99_999th<br>sample [number]=%{x}<br>latency [micros]=%{y}<extra></extra>",
         "legendgroup": "99_999th",
         "line": {
          "color": "#FF97FF",
          "dash": "solid"
         },
         "mode": "lines",
         "name": "99_999th",
         "orientation": "v",
         "showlegend": true,
         "type": "scatter",
         "x": [
          0,
          1,
          2,
          3,
          4,
          5,
          6,
          7,
          8,
          9
         ],
         "xaxis": "x",
         "y": [
          861.2008200001583,
          1381.2099700019244,
          776.2001200000232,
          1929.0088000016985,
          806.2004700000907,
          7123.0099500019205,
          688.4000400000077,
          1253.4000900000174,
          724.8000800000154,
          765.0003500000676
         ],
         "yaxis": "y"
        }
       ],
       "layout": {
        "height": 800,
        "legend": {
         "title": {
          "text": "variable"
         },
         "tracegroupgap": 0
        },
        "template": {
         "data": {
          "bar": [
           {
            "error_x": {
             "color": "#2a3f5f"
            },
            "error_y": {
             "color": "#2a3f5f"
            },
            "marker": {
             "line": {
              "color": "#E5ECF6",
              "width": 0.5
             }
            },
            "type": "bar"
           }
          ],
          "barpolar": [
           {
            "marker": {
             "line": {
              "color": "#E5ECF6",
              "width": 0.5
             }
            },
            "type": "barpolar"
           }
          ],
          "carpet": [
           {
            "aaxis": {
             "endlinecolor": "#2a3f5f",
             "gridcolor": "white",
             "linecolor": "white",
             "minorgridcolor": "white",
             "startlinecolor": "#2a3f5f"
            },
            "baxis": {
             "endlinecolor": "#2a3f5f",
             "gridcolor": "white",
             "linecolor": "white",
             "minorgridcolor": "white",
             "startlinecolor": "#2a3f5f"
            },
            "type": "carpet"
           }
          ],
          "choropleth": [
           {
            "colorbar": {
             "outlinewidth": 0,
             "ticks": ""
            },
            "type": "choropleth"
           }
          ],
          "contour": [
           {
            "colorbar": {
             "outlinewidth": 0,
             "ticks": ""
            },
            "colorscale": [
             [
              0,
              "#0d0887"
             ],
             [
              0.1111111111111111,
              "#46039f"
             ],
             [
              0.2222222222222222,
              "#7201a8"
             ],
             [
              0.3333333333333333,
              "#9c179e"
             ],
             [
              0.4444444444444444,
              "#bd3786"
             ],
             [
              0.5555555555555556,
              "#d8576b"
             ],
             [
              0.6666666666666666,
              "#ed7953"
             ],
             [
              0.7777777777777778,
              "#fb9f3a"
             ],
             [
              0.8888888888888888,
              "#fdca26"
             ],
             [
              1,
              "#f0f921"
             ]
            ],
            "type": "contour"
           }
          ],
          "contourcarpet": [
           {
            "colorbar": {
             "outlinewidth": 0,
             "ticks": ""
            },
            "type": "contourcarpet"
           }
          ],
          "heatmap": [
           {
            "colorbar": {
             "outlinewidth": 0,
             "ticks": ""
            },
            "colorscale": [
             [
              0,
              "#0d0887"
             ],
             [
              0.1111111111111111,
              "#46039f"
             ],
             [
              0.2222222222222222,
              "#7201a8"
             ],
             [
              0.3333333333333333,
              "#9c179e"
             ],
             [
              0.4444444444444444,
              "#bd3786"
             ],
             [
              0.5555555555555556,
              "#d8576b"
             ],
             [
              0.6666666666666666,
              "#ed7953"
             ],
             [
              0.7777777777777778,
              "#fb9f3a"
             ],
             [
              0.8888888888888888,
              "#fdca26"
             ],
             [
              1,
              "#f0f921"
             ]
            ],
            "type": "heatmap"
           }
          ],
          "heatmapgl": [
           {
            "colorbar": {
             "outlinewidth": 0,
             "ticks": ""
            },
            "colorscale": [
             [
              0,
              "#0d0887"
             ],
             [
              0.1111111111111111,
              "#46039f"
             ],
             [
              0.2222222222222222,
              "#7201a8"
             ],
             [
              0.3333333333333333,
              "#9c179e"
             ],
             [
              0.4444444444444444,
              "#bd3786"
             ],
             [
              0.5555555555555556,
              "#d8576b"
             ],
             [
              0.6666666666666666,
              "#ed7953"
             ],
             [
              0.7777777777777778,
              "#fb9f3a"
             ],
             [
              0.8888888888888888,
              "#fdca26"
             ],
             [
              1,
              "#f0f921"
             ]
            ],
            "type": "heatmapgl"
           }
          ],
          "histogram": [
           {
            "marker": {
             "colorbar": {
              "outlinewidth": 0,
              "ticks": ""
             }
            },
            "type": "histogram"
           }
          ],
          "histogram2d": [
           {
            "colorbar": {
             "outlinewidth": 0,
             "ticks": ""
            },
            "colorscale": [
             [
              0,
              "#0d0887"
             ],
             [
              0.1111111111111111,
              "#46039f"
             ],
             [
              0.2222222222222222,
              "#7201a8"
             ],
             [
              0.3333333333333333,
              "#9c179e"
             ],
             [
              0.4444444444444444,
              "#bd3786"
             ],
             [
              0.5555555555555556,
              "#d8576b"
             ],
             [
              0.6666666666666666,
              "#ed7953"
             ],
             [
              0.7777777777777778,
              "#fb9f3a"
             ],
             [
              0.8888888888888888,
              "#fdca26"
             ],
             [
              1,
              "#f0f921"
             ]
            ],
            "type": "histogram2d"
           }
          ],
          "histogram2dcontour": [
           {
            "colorbar": {
             "outlinewidth": 0,
             "ticks": ""
            },
            "colorscale": [
             [
              0,
              "#0d0887"
             ],
             [
              0.1111111111111111,
              "#46039f"
             ],
             [
              0.2222222222222222,
              "#7201a8"
             ],
             [
              0.3333333333333333,
              "#9c179e"
             ],
             [
              0.4444444444444444,
              "#bd3786"
             ],
             [
              0.5555555555555556,
              "#d8576b"
             ],
             [
              0.6666666666666666,
              "#ed7953"
             ],
             [
              0.7777777777777778,
              "#fb9f3a"
             ],
             [
              0.8888888888888888,
              "#fdca26"
             ],
             [
              1,
              "#f0f921"
             ]
            ],
            "type": "histogram2dcontour"
           }
          ],
          "mesh3d": [
           {
            "colorbar": {
             "outlinewidth": 0,
             "ticks": ""
            },
            "type": "mesh3d"
           }
          ],
          "parcoords": [
           {
            "line": {
             "colorbar": {
              "outlinewidth": 0,
              "ticks": ""
             }
            },
            "type": "parcoords"
           }
          ],
          "pie": [
           {
            "automargin": true,
            "type": "pie"
           }
          ],
          "scatter": [
           {
            "marker": {
             "colorbar": {
              "outlinewidth": 0,
              "ticks": ""
             }
            },
            "type": "scatter"
           }
          ],
          "scatter3d": [
           {
            "line": {
             "colorbar": {
              "outlinewidth": 0,
              "ticks": ""
             }
            },
            "marker": {
             "colorbar": {
              "outlinewidth": 0,
              "ticks": ""
             }
            },
            "type": "scatter3d"
           }
          ],
          "scattercarpet": [
           {
            "marker": {
             "colorbar": {
              "outlinewidth": 0,
              "ticks": ""
             }
            },
            "type": "scattercarpet"
           }
          ],
          "scattergeo": [
           {
            "marker": {
             "colorbar": {
              "outlinewidth": 0,
              "ticks": ""
             }
            },
            "type": "scattergeo"
           }
          ],
          "scattergl": [
           {
            "marker": {
             "colorbar": {
              "outlinewidth": 0,
              "ticks": ""
             }
            },
            "type": "scattergl"
           }
          ],
          "scattermapbox": [
           {
            "marker": {
             "colorbar": {
              "outlinewidth": 0,
              "ticks": ""
             }
            },
            "type": "scattermapbox"
           }
          ],
          "scatterpolar": [
           {
            "marker": {
             "colorbar": {
              "outlinewidth": 0,
              "ticks": ""
             }
            },
            "type": "scatterpolar"
           }
          ],
          "scatterpolargl": [
           {
            "marker": {
             "colorbar": {
              "outlinewidth": 0,
              "ticks": ""
             }
            },
            "type": "scatterpolargl"
           }
          ],
          "scatterternary": [
           {
            "marker": {
             "colorbar": {
              "outlinewidth": 0,
              "ticks": ""
             }
            },
            "type": "scatterternary"
           }
          ],
          "surface": [
           {
            "colorbar": {
             "outlinewidth": 0,
             "ticks": ""
            },
            "colorscale": [
             [
              0,
              "#0d0887"
             ],
             [
              0.1111111111111111,
              "#46039f"
             ],
             [
              0.2222222222222222,
              "#7201a8"
             ],
             [
              0.3333333333333333,
              "#9c179e"
             ],
             [
              0.4444444444444444,
              "#bd3786"
             ],
             [
              0.5555555555555556,
              "#d8576b"
             ],
             [
              0.6666666666666666,
              "#ed7953"
             ],
             [
              0.7777777777777778,
              "#fb9f3a"
             ],
             [
              0.8888888888888888,
              "#fdca26"
             ],
             [
              1,
              "#f0f921"
             ]
            ],
            "type": "surface"
           }
          ],
          "table": [
           {
            "cells": {
             "fill": {
              "color": "#EBF0F8"
             },
             "line": {
              "color": "white"
             }
            },
            "header": {
             "fill": {
              "color": "#C8D4E3"
             },
             "line": {
              "color": "white"
             }
            },
            "type": "table"
           }
          ]
         },
         "layout": {
          "annotationdefaults": {
           "arrowcolor": "#2a3f5f",
           "arrowhead": 0,
           "arrowwidth": 1
          },
          "coloraxis": {
           "colorbar": {
            "outlinewidth": 0,
            "ticks": ""
           }
          },
          "colorscale": {
           "diverging": [
            [
             0,
             "#8e0152"
            ],
            [
             0.1,
             "#c51b7d"
            ],
            [
             0.2,
             "#de77ae"
            ],
            [
             0.3,
             "#f1b6da"
            ],
            [
             0.4,
             "#fde0ef"
            ],
            [
             0.5,
             "#f7f7f7"
            ],
            [
             0.6,
             "#e6f5d0"
            ],
            [
             0.7,
             "#b8e186"
            ],
            [
             0.8,
             "#7fbc41"
            ],
            [
             0.9,
             "#4d9221"
            ],
            [
             1,
             "#276419"
            ]
           ],
           "sequential": [
            [
             0,
             "#0d0887"
            ],
            [
             0.1111111111111111,
             "#46039f"
            ],
            [
             0.2222222222222222,
             "#7201a8"
            ],
            [
             0.3333333333333333,
             "#9c179e"
            ],
            [
             0.4444444444444444,
             "#bd3786"
            ],
            [
             0.5555555555555556,
             "#d8576b"
            ],
            [
             0.6666666666666666,
             "#ed7953"
            ],
            [
             0.7777777777777778,
             "#fb9f3a"
            ],
            [
             0.8888888888888888,
             "#fdca26"
            ],
            [
             1,
             "#f0f921"
            ]
           ],
           "sequentialminus": [
            [
             0,
             "#0d0887"
            ],
            [
             0.1111111111111111,
             "#46039f"
            ],
            [
             0.2222222222222222,
             "#7201a8"
            ],
            [
             0.3333333333333333,
             "#9c179e"
            ],
            [
             0.4444444444444444,
             "#bd3786"
            ],
            [
             0.5555555555555556,
             "#d8576b"
            ],
            [
             0.6666666666666666,
             "#ed7953"
            ],
            [
             0.7777777777777778,
             "#fb9f3a"
            ],
            [
             0.8888888888888888,
             "#fdca26"
            ],
            [
             1,
             "#f0f921"
            ]
           ]
          },
          "colorway": [
           "#636efa",
           "#EF553B",
           "#00cc96",
           "#ab63fa",
           "#FFA15A",
           "#19d3f3",
           "#FF6692",
           "#B6E880",
           "#FF97FF",
           "#FECB52"
          ],
          "font": {
           "color": "#2a3f5f"
          },
          "geo": {
           "bgcolor": "white",
           "lakecolor": "white",
           "landcolor": "#E5ECF6",
           "showlakes": true,
           "showland": true,
           "subunitcolor": "white"
          },
          "hoverlabel": {
           "align": "left"
          },
          "hovermode": "closest",
          "mapbox": {
           "style": "light"
          },
          "paper_bgcolor": "white",
          "plot_bgcolor": "#E5ECF6",
          "polar": {
           "angularaxis": {
            "gridcolor": "white",
            "linecolor": "white",
            "ticks": ""
           },
           "bgcolor": "#E5ECF6",
           "radialaxis": {
            "gridcolor": "white",
            "linecolor": "white",
            "ticks": ""
           }
          },
          "scene": {
           "xaxis": {
            "backgroundcolor": "#E5ECF6",
            "gridcolor": "white",
            "gridwidth": 2,
            "linecolor": "white",
            "showbackground": true,
            "ticks": "",
            "zerolinecolor": "white"
           },
           "yaxis": {
            "backgroundcolor": "#E5ECF6",
            "gridcolor": "white",
            "gridwidth": 2,
            "linecolor": "white",
            "showbackground": true,
            "ticks": "",
            "zerolinecolor": "white"
           },
           "zaxis": {
            "backgroundcolor": "#E5ECF6",
            "gridcolor": "white",
            "gridwidth": 2,
            "linecolor": "white",
            "showbackground": true,
            "ticks": "",
            "zerolinecolor": "white"
           }
          },
          "shapedefaults": {
           "line": {
            "color": "#2a3f5f"
           }
          },
          "ternary": {
           "aaxis": {
            "gridcolor": "white",
            "linecolor": "white",
            "ticks": ""
           },
           "baxis": {
            "gridcolor": "white",
            "linecolor": "white",
            "ticks": ""
           },
           "bgcolor": "#E5ECF6",
           "caxis": {
            "gridcolor": "white",
            "linecolor": "white",
            "ticks": ""
           }
          },
          "title": {
           "x": 0.05
          },
          "xaxis": {
           "automargin": true,
           "gridcolor": "white",
           "linecolor": "white",
           "ticks": "",
           "title": {
            "standoff": 15
           },
           "zerolinecolor": "white",
           "zerolinewidth": 2
          },
          "yaxis": {
           "automargin": true,
           "gridcolor": "white",
           "linecolor": "white",
           "ticks": "",
           "title": {
            "standoff": 15
           },
           "zerolinecolor": "white",
           "zerolinewidth": 2
          }
         }
        },
        "title": {
         "text": "Latency Percentiles Latency Node"
        },
        "width": 800,
        "xaxis": {
         "anchor": "y",
         "domain": [
          0,
          1
         ],
         "title": {
          "text": "sample [number]"
         }
        },
        "yaxis": {
         "anchor": "x",
         "domain": [
          0,
          1
         ],
         "title": {
          "text": "latency [micros]"
         }
        }
       }
      }
     },
     "metadata": {}
    }
   ],
   "source": [
    "import plotly.express as px\n",
    "\n",
    "df_result = run_analytics.export_latency_node_series_latencies_metrics_as_dataframe()\n",
    "fig_line = px.line(df_result,\n",
    "                   title=\"Latency Percentiles: Latency Node\",\n",
    "                   labels={\"value\":\"latency [micros]\", \"index\":\"sample [number]\"})\n",
    "# fig_line = px.line(df_result,\n",
    "#                    title=\"Latency Percentiles: Latency Node\",\n",
    "#                    width=800, height=800,\n",
    "#                    labels={\"value\":\"latency [micros]\", \"index\":\"sample [number]\"})\n",
    "fig_line.show()"
   ]
  },
  {
   "source": [
    "---\n",
    "The End."
   ],
   "cell_type": "markdown",
   "metadata": {}
  }
 ],
 "metadata": {
  "kernelspec": {
   "display_name": "Python 3",
   "language": "python",
   "name": "python3"
  },
  "language_info": {
   "codemirror_mode": {
    "name": "ipython",
    "version": 3
   },
   "file_extension": ".py",
   "mimetype": "text/x-python",
   "name": "python",
   "nbconvert_exporter": "python",
   "pygments_lexer": "ipython3",
   "version": "3.8.6-final"
  }
 },
 "nbformat": 4,
 "nbformat_minor": 4
}