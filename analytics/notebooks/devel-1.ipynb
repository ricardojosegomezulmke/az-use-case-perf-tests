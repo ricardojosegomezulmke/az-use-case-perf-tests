{
 "cells": [
  {
   "source": [
    "# TESTING NOTEBOOK PRODUCTION"
   ],
   "cell_type": "markdown",
   "metadata": {}
  },
  {
   "cell_type": "code",
   "execution_count": 1,
   "metadata": {},
   "outputs": [
    {
     "output_type": "stream",
     "name": "stdout",
     "text": [
      "enableLoggingEnvVal=true\nlogFile=./devel-1.ipynb.log\nANALYTICS_ENABLE_LOGGING=true\nANALYTICS_LOG_FILE=./devel-1.ipynb.log\nNOTEBOOK_RESULTS_LOCATION_DIR=../testresults/azure.1-auto-standalone\nNOTEBOOK_RUN_ID=run.2020-11-02-18-36-10\n"
     ]
    }
   ],
   "source": [
    "# Check if running in production mode \n",
    "# if not, set devel envs here\n",
    "\n",
    "import os\n",
    "from distutils.util import strtobool\n",
    "\n",
    "notebook_run_production_mode_env_val=os.getenv(\"NOTEBOOK_RUN_PRODUCTION_MODE\")\n",
    "if notebook_run_production_mode_env_val is not None:\n",
    "    is_notebook_run_production_mode = bool(strtobool(notebook_run_production_mode_env_val))\n",
    "else:\n",
    "    is_notebook_run_production_mode = False\n",
    "\n",
    "if not is_notebook_run_production_mode:\n",
    "    os.environ['ANALYTICS_ENABLE_LOGGING'] = \"true\"    \n",
    "    os.environ['ANALYTICS_LOG_FILE'] = \"./devel-1.ipynb.log\"    \n",
    "    os.environ['NOTEBOOK_RESULTS_LOCATION_DIR'] = \"../testresults/azure.1-auto-standalone\"\n",
    "    os.environ['NOTEBOOK_RUN_ID'] = \"2020-11-02-18-36-10\"\n",
    "\n",
    "from lib import _util\n",
    "\n",
    "if not is_notebook_run_production_mode:\n",
    "    _util.testPrintMe()\n",
    "    _util.testLogMe()\n",
    "\n",
    "\n",
    "# print env vars\n",
    "print(\"ANALYTICS_ENABLE_LOGGING={}\".format(os.getenv('ANALYTICS_ENABLE_LOGGING')))\n",
    "print(\"ANALYTICS_LOG_FILE={}\".format(os.getenv('ANALYTICS_LOG_FILE')))\n",
    "print(\"NOTEBOOK_RESULTS_LOCATION_DIR={}\".format(os.getenv('NOTEBOOK_RESULTS_LOCATION_DIR')))\n",
    "print(\"NOTEBOOK_RUN_ID={}\".format(os.getenv('NOTEBOOK_RUN_ID')))\n",
    "\n",
    "\n",
    "\n"
   ]
  },
  {
   "cell_type": "code",
   "execution_count": 2,
   "metadata": {},
   "outputs": [
    {
     "output_type": "stream",
     "name": "stdout",
     "text": [
      "results_location_dir='../testresults/azure.1-auto-standalone'\nrun_id='run.2020-11-02-18-36-10'\n"
     ]
    },
    {
     "output_type": "error",
     "ename": "PerfError",
     "evalue": "[PerfError [message:run_id: run.2020-11-02-18-36-10 not found]]",
     "traceback": [
      "\u001b[0;31m---------------------------------------------------------------------------\u001b[0m",
      "\u001b[0;31mStopIteration\u001b[0m                             Traceback (most recent call last)",
      "\u001b[0;32m~/Dropbox/Solace-Contents/Solace-IoT-Team/azure-performance/az-use-case-perf-tests/analytics/notebooks/lib/run_definition.py\u001b[0m in \u001b[0;36mfind_run\u001b[0;34m(self, run_id)\u001b[0m\n\u001b[1;32m     76\u001b[0m         \u001b[0;32mtry\u001b[0m\u001b[0;34m:\u001b[0m\u001b[0;34m\u001b[0m\u001b[0;34m\u001b[0m\u001b[0m\n\u001b[0;32m---> 77\u001b[0;31m             \u001b[0;32mreturn\u001b[0m \u001b[0mnext\u001b[0m\u001b[0;34m(\u001b[0m\u001b[0mfilter\u001b[0m\u001b[0;34m(\u001b[0m\u001b[0;32mlambda\u001b[0m \u001b[0mitem\u001b[0m\u001b[0;34m:\u001b[0m \u001b[0mitem\u001b[0m\u001b[0;34m.\u001b[0m\u001b[0mrun_meta\u001b[0m\u001b[0;34m.\u001b[0m\u001b[0mrun_id\u001b[0m\u001b[0;34m==\u001b[0m\u001b[0mrun_id\u001b[0m\u001b[0;34m,\u001b[0m \u001b[0mself\u001b[0m\u001b[0;34m.\u001b[0m\u001b[0m_list_runs\u001b[0m\u001b[0;34m)\u001b[0m\u001b[0;34m)\u001b[0m\u001b[0;34m\u001b[0m\u001b[0;34m\u001b[0m\u001b[0m\n\u001b[0m\u001b[1;32m     78\u001b[0m         \u001b[0;32mexcept\u001b[0m \u001b[0mStopIteration\u001b[0m\u001b[0;34m:\u001b[0m\u001b[0;34m\u001b[0m\u001b[0;34m\u001b[0m\u001b[0m\n",
      "\u001b[0;31mStopIteration\u001b[0m: ",
      "\nDuring handling of the above exception, another exception occurred:\n",
      "\u001b[0;31mPerfError\u001b[0m                                 Traceback (most recent call last)",
      "\u001b[0;32m<ipython-input-2-efab562d5a35>\u001b[0m in \u001b[0;36m<module>\u001b[0;34m\u001b[0m\n\u001b[1;32m     34\u001b[0m \u001b[0mrunDefinition\u001b[0m \u001b[0;34m=\u001b[0m \u001b[0mrun_definition\u001b[0m\u001b[0;34m.\u001b[0m\u001b[0mRunDefinition\u001b[0m\u001b[0;34m(\u001b[0m\u001b[0mlocation\u001b[0m\u001b[0;34m)\u001b[0m\u001b[0;34m\u001b[0m\u001b[0;34m\u001b[0m\u001b[0m\n\u001b[1;32m     35\u001b[0m \u001b[0mrunDefinition\u001b[0m\u001b[0;34m.\u001b[0m\u001b[0mprocess_run_samples\u001b[0m\u001b[0;34m(\u001b[0m\u001b[0;34m)\u001b[0m\u001b[0;34m\u001b[0m\u001b[0;34m\u001b[0m\u001b[0m\n\u001b[0;32m---> 36\u001b[0;31m \u001b[0mrun\u001b[0m \u001b[0;34m=\u001b[0m \u001b[0mrunDefinition\u001b[0m\u001b[0;34m.\u001b[0m\u001b[0mfind_run\u001b[0m\u001b[0;34m(\u001b[0m\u001b[0mrun_id\u001b[0m\u001b[0;34m)\u001b[0m\u001b[0;34m\u001b[0m\u001b[0;34m\u001b[0m\u001b[0m\n\u001b[0m\u001b[1;32m     37\u001b[0m \u001b[0mmeta\u001b[0m \u001b[0;34m=\u001b[0m \u001b[0mrun\u001b[0m\u001b[0;34m.\u001b[0m\u001b[0mrun_meta\u001b[0m\u001b[0;34m\u001b[0m\u001b[0;34m\u001b[0m\u001b[0m\n\u001b[1;32m     38\u001b[0m \u001b[0;34m\u001b[0m\u001b[0m\n",
      "\u001b[0;32m~/Dropbox/Solace-Contents/Solace-IoT-Team/azure-performance/az-use-case-perf-tests/analytics/notebooks/lib/run_definition.py\u001b[0m in \u001b[0;36mfind_run\u001b[0;34m(self, run_id)\u001b[0m\n\u001b[1;32m     77\u001b[0m             \u001b[0;32mreturn\u001b[0m \u001b[0mnext\u001b[0m\u001b[0;34m(\u001b[0m\u001b[0mfilter\u001b[0m\u001b[0;34m(\u001b[0m\u001b[0;32mlambda\u001b[0m \u001b[0mitem\u001b[0m\u001b[0;34m:\u001b[0m \u001b[0mitem\u001b[0m\u001b[0;34m.\u001b[0m\u001b[0mrun_meta\u001b[0m\u001b[0;34m.\u001b[0m\u001b[0mrun_id\u001b[0m\u001b[0;34m==\u001b[0m\u001b[0mrun_id\u001b[0m\u001b[0;34m,\u001b[0m \u001b[0mself\u001b[0m\u001b[0;34m.\u001b[0m\u001b[0m_list_runs\u001b[0m\u001b[0;34m)\u001b[0m\u001b[0;34m)\u001b[0m\u001b[0;34m\u001b[0m\u001b[0;34m\u001b[0m\u001b[0m\n\u001b[1;32m     78\u001b[0m         \u001b[0;32mexcept\u001b[0m \u001b[0mStopIteration\u001b[0m\u001b[0;34m:\u001b[0m\u001b[0;34m\u001b[0m\u001b[0;34m\u001b[0m\u001b[0m\n\u001b[0;32m---> 79\u001b[0;31m             \u001b[0;32mraise\u001b[0m \u001b[0mPerfError\u001b[0m\u001b[0;34m(\u001b[0m\u001b[0;34mf'run_id: {run_id} not found'\u001b[0m\u001b[0;34m)\u001b[0m\u001b[0;34m\u001b[0m\u001b[0;34m\u001b[0m\u001b[0m\n\u001b[0m\u001b[1;32m     80\u001b[0m \u001b[0;34m\u001b[0m\u001b[0m\n\u001b[1;32m     81\u001b[0m \u001b[0;34m\u001b[0m\u001b[0m\n",
      "\u001b[0;31mPerfError\u001b[0m: [PerfError [message:run_id: run.2020-11-02-18-36-10 not found]]"
     ]
    }
   ],
   "source": [
    "from lib import run_definition\n",
    "from lib import run_result_location\n",
    "from lib import constants\n",
    "from lib import run\n",
    "from os import path\n",
    "\n",
    "import json\n",
    "\n",
    "# import numpy as np\n",
    "# import pandas as pd\n",
    "# from jsonpath_ng import jsonpath, parse\n",
    "# import matplotlib.pyplot as plt\n",
    "# import seaborn as sns\n",
    "# import plotly.express as px\n",
    "# import plotly.graph_objects as go\n",
    "\n",
    "results_location_dir = os.getenv('NOTEBOOK_RESULTS_LOCATION_DIR')\n",
    "run_id = os.getenv('NOTEBOOK_RUN_ID')\n",
    "\n",
    "import logging\n",
    "logging.debug(\"results_location_dir='{}'\".format(results_location_dir))\n",
    "print(\"results_location_dir='{}'\".format(results_location_dir))\n",
    "logging.debug(\"run_id='{}'\".format(run_id))\n",
    "print(\"run_id='{}'\".format(run_id))\n",
    "# import sys \n",
    "# sys.exit(1)\n",
    "\n",
    "# %matplotlib inline\n",
    "#global defaults of graphics size\n",
    "# plt.rcParams[\"figure.figsize\"] = [50, 50]\n",
    "\n",
    "location = run_result_location.RunResultLocation(results_location_dir)\n",
    "\n",
    "runDefinition = run_definition.RunDefinition(location)\n",
    "runDefinition.process_run_samples()\n",
    "run = runDefinition.find_run(run_id, False)\n",
    "meta = run.run_meta\n",
    "\n",
    "# df_latencies = pd.DataFrame(data={'run1': run.export_latency_node_distinct_latencies()})\n",
    "# df_broker_latencies = pd.DataFrame(data={'run1': run.export_broker_node_distinct_latencies()})\n",
    "# df_ping = pd.DataFrame(run.export_ping_series(constants.c_ping_all_metrics))\n",
    "\n",
    "# print(\"meta={}\".format(json.dumps(meta, indent=2)))\n",
    "print(\"meta={}\".format(meta))\n"
   ]
  },
  {
   "cell_type": "markdown",
   "metadata": {
    "pycharm": {
     "name": "#%% md\n"
    },
    "variables": {
     "meta.cloud_provider": "<p><strong>NameError</strong>: name &#39;meta&#39; is not defined</p>\n",
     "meta.infrastructure": "<p><strong>NameError</strong>: name &#39;meta&#39; is not defined</p>\n",
     "meta.run_duration_sec()": "<p><strong>NameError</strong>: name &#39;meta&#39; is not defined</p>\n",
     "meta.run_id": "<p><strong>NameError</strong>: name &#39;meta&#39; is not defined</p>\n",
     "meta.run_name": "<p><strong>NameError</strong>: name &#39;meta&#39; is not defined</p>\n",
     "meta.ts_run_end": "<p><strong>NameError</strong>: name &#39;meta&#39; is not defined</p>\n",
     "meta.ts_run_start": "<p><strong>NameError</strong>: name &#39;meta&#39; is not defined</p>\n"
    }
   },
   "source": [
    "## Run Settings\n",
    "\n",
    "Cloudprovider: {{meta.cloud_provider}}\n",
    "\n",
    "Infrastructure: {{meta.infrastructure}}\n",
    "\n",
    "Run name: {{meta.run_name}}\n",
    "\n",
    "Run Id: {{meta.run_id}}\n",
    "\n",
    "Started: {{meta.ts_run_start}}\n",
    "\n",
    "Ended: {{meta.ts_run_end}}\n",
    "\n",
    "Duration: {{meta.run_duration_sec()}}\n"
   ]
  },
  {
   "cell_type": "markdown",
   "metadata": {
    "pycharm": {
     "name": "#%% md\n"
    }
   },
   "source": [
    "# Key Metrics\n",
    "\n",
    "### Latency Node Basic Stats"
   ]
  }
 ],
 "metadata": {
  "kernelspec": {
   "display_name": "Python 3",
   "language": "python",
   "name": "python3"
  },
  "language_info": {
   "codemirror_mode": {
    "name": "ipython",
    "version": 3
   },
   "file_extension": ".py",
   "mimetype": "text/x-python",
   "name": "python",
   "nbconvert_exporter": "python",
   "pygments_lexer": "ipython3",
   "version": "3.8.6-final"
  }
 },
 "nbformat": 4,
 "nbformat_minor": 4
}