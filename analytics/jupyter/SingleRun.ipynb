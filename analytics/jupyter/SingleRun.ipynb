{
 "cells": [
  {
   "cell_type": "code",
   "execution_count": null,
   "metadata": {},
   "outputs": [],
   "source": [
    "import perfmodel\n",
    "import os.path\n",
    "from os import path\n",
    "import json\n",
    "import glob\n",
    "import numpy as np\n",
    "import pandas as pd\n",
    "from jsonpath_ng import jsonpath, parse\n",
    "import matplotlib.pyplot as plt\n",
    "import seaborn as sns\n",
    "import plotly.express as px\n",
    "import plotly.graph_objects as go\n",
    "\n",
    "%matplotlib inline\n",
    "#global defaults of graphics size\n",
    "plt.rcParams[\"figure.figsize\"] = [50, 50]\n",
    "\n",
    "#Define run_id\n",
    "run_id = \"2020-10-23-15-59-41\"\n",
    "\n",
    "#point to test result folder containing runs\n",
    "location = perfmodel.RunResultLocation(\"../testresults/azure.1-auto-standalone\")\n",
    "\n",
    "runDefinition = perfmodel.RunDefinition(location)\n",
    "runDefinition.process_run_samples()\n",
    "run = runDefinition.find_run(run_id)\n",
    "meta = run.run_meta\n",
    "df_latencies = pd.DataFrame(data={'run1': run.export_latency_node_distinct_latencies()})\n",
    "df_broker_latencies = pd.DataFrame(data={'run1': run.export_broker_node_distinct_latencies()})\n",
    "df_ping = pd.DataFrame(run.export_ping_series(perfmodel.c_ping_all_metrics))"
   ]
  },
  {
   "cell_type": "markdown",
   "metadata": {
    "pycharm": {
     "name": "#%% md\n"
    },
    "variables": {
     "meta.cloud_provider": "azure",
     "meta.infrastructure": "azure.1-auto-standalone",
     "meta.run_duration_sec()": "datetime.timedelta(seconds=646)",
     "meta.run_id": "2020-10-23-15-59-41",
     "meta.run_name": "0_base",
     "meta.ts_run_end": "datetime.datetime(2020, 10, 23, 17, 10, 27, 10000)",
     "meta.ts_run_start": "datetime.datetime(2020, 10, 23, 16, 59, 41, 10000)"
    }
   },
   "source": [
    "## Single Run Analytics\n",
    "\n",
    "CONFIDENTIAL | NOT FOR DISTRIBUTION | DATA NOT VALIDATED\n",
    "\n",
    "Cloudprovider: {{meta.cloud_provider}}\n",
    "\n",
    "Infrastructure: {{meta.infrastructure}}\n",
    "\n",
    "Run name: {{meta.run_name}}\n",
    "\n",
    "Run Id: {{meta.run_id}}\n",
    "\n",
    "Started: {{meta.ts_run_start}}\n",
    "\n",
    "Ended: {{meta.ts_run_end}}\n",
    "\n",
    "Duration: {{meta.run_duration_sec()}}\n"
   ]
  },
  {
   "cell_type": "markdown",
   "metadata": {
    "pycharm": {
     "name": "#%% md\n"
    }
   },
   "source": [
    "# Key Metrics\n",
    "\n",
    "### Latency Node Basic Stats"
   ]
  },
  {
   "cell_type": "code",
   "execution_count": null,
   "metadata": {
    "pycharm": {
     "name": "#%%\n"
    }
   },
   "outputs": [],
   "source": [
    "run1_series = df_latencies['run1']\n",
    "run1_series.describe()"
   ]
  },
  {
   "cell_type": "markdown",
   "metadata": {
    "pycharm": {
     "name": "#%% md\n"
    }
   },
   "source": [
    "### Broker Node Basic Stats"
   ]
  },
  {
   "cell_type": "code",
   "execution_count": null,
   "metadata": {
    "pycharm": {
     "name": "#%%\n"
    }
   },
   "outputs": [],
   "source": [
    "broker_run1_series = df_broker_latencies['run1']\n",
    "broker_run1_series.describe()"
   ]
  },
  {
   "cell_type": "markdown",
   "metadata": {
    "pycharm": {
     "name": "#%% md\n"
    }
   },
   "source": [
    "### Latency Node Quantiles"
   ]
  },
  {
   "cell_type": "code",
   "execution_count": null,
   "metadata": {
    "pycharm": {
     "name": "#%%\n"
    }
   },
   "outputs": [],
   "source": [
    "q1 = run1_series.quantile(q=[0.05,0.1,0.25,0.5,0.75,0.9,0.99,0.995,0.999,0.9999,0.99999])\n",
    "q1"
   ]
  },
  {
   "cell_type": "markdown",
   "metadata": {
    "pycharm": {
     "name": "#%% md\n"
    }
   },
   "source": [
    "### Broker Node Quantiles"
   ]
  },
  {
   "cell_type": "code",
   "execution_count": null,
   "metadata": {
    "pycharm": {
     "name": "#%%\n"
    }
   },
   "outputs": [],
   "source": [
    "broker_q1 = broker_run1_series.quantile(q=[0.05,0.1,0.25,0.5,0.75,0.9,0.99,0.995,0.999,0.9999,0.99999])\n",
    "broker_q1"
   ]
  },
  {
   "cell_type": "markdown",
   "metadata": {
    "pycharm": {
     "name": "#%% md\n"
    }
   },
   "source": [
    "# Plots"
   ]
  },
  {
   "cell_type": "markdown",
   "metadata": {
    "pycharm": {
     "name": "#%% md\n"
    }
   },
   "source": [
    "## Latency Node"
   ]
  },
  {
   "cell_type": "code",
   "execution_count": null,
   "metadata": {
    "pycharm": {
     "name": "#%%\n"
    }
   },
   "outputs": [],
   "source": [
    "fig_line = px.line(df_latencies)\n",
    "fig_line.show()"
   ]
  },
  {
   "cell_type": "code",
   "execution_count": null,
   "metadata": {
    "pycharm": {
     "name": "#%%\n"
    }
   },
   "outputs": [],
   "source": [
    "fig_scatter = px.scatter(df_latencies)\n",
    "fig_scatter.show()\n"
   ]
  },
  {
   "cell_type": "code",
   "execution_count": null,
   "metadata": {
    "pycharm": {
     "name": "#%%\n"
    }
   },
   "outputs": [],
   "source": [
    "fig_histogram = px.histogram(df_latencies, log_x=True )\n",
    "fig_histogram.show()"
   ]
  },
  {
   "cell_type": "markdown",
   "metadata": {},
   "source": [
    "## Ping"
   ]
  },
  {
   "cell_type": "code",
   "execution_count": null,
   "metadata": {},
   "outputs": [],
   "source": [
    "fig_ping_scatter = px.scatter(data_frame=df_ping, y=\"value\", x=\"metric\")\n",
    "fig_ping_scatter.show()"
   ]
  },
  {
   "cell_type": "code",
   "execution_count": null,
   "metadata": {},
   "outputs": [],
   "source": [
    "fig_ping_box = px.box(data_frame=df_ping, y=\"value\", x=\"metric\")\n",
    "fig_ping_box.show()"
   ]
  },
  {
   "cell_type": "markdown",
   "metadata": {},
   "source": [
    "## Broker Node"
   ]
  },
  {
   "cell_type": "code",
   "execution_count": null,
   "metadata": {
    "pycharm": {
     "name": "#%%\n"
    }
   },
   "outputs": [],
   "source": [
    "fig_broker_line = px.line(df_broker_latencies)\n",
    "fig_broker_line.show()"
   ]
  },
  {
   "cell_type": "code",
   "execution_count": null,
   "metadata": {
    "pycharm": {
     "name": "#%%\n"
    }
   },
   "outputs": [],
   "source": [
    "fig_broker_scatter = px.scatter(df_broker_latencies)\n",
    "fig_broker_scatter.show()"
   ]
  },
  {
   "cell_type": "code",
   "execution_count": null,
   "metadata": {
    "pycharm": {
     "name": "#%%\n"
    }
   },
   "outputs": [],
   "source": [
    "fig_broker_histogram = px.histogram(df_broker_latencies, log_x=True )\n",
    "fig_broker_histogram.show()\n",
    "\n",
    "\n",
    "\n"
   ]
  },
  {
   "cell_type": "code",
   "execution_count": null,
   "metadata": {},
   "outputs": [],
   "source": []
  },
  {
   "cell_type": "code",
   "execution_count": null,
   "metadata": {},
   "outputs": [],
   "source": []
  }
 ],
 "metadata": {
  "kernelspec": {
   "display_name": "Python 3",
   "language": "python",
   "name": "python3"
  },
  "language_info": {
   "codemirror_mode": {
    "name": "ipython",
    "version": 3
   },
   "file_extension": ".py",
   "mimetype": "text/x-python",
   "name": "python",
   "nbconvert_exporter": "python",
   "pygments_lexer": "ipython3",
   "version": "3.8.5"
  }
 },
 "nbformat": 4,
 "nbformat_minor": 4
}
