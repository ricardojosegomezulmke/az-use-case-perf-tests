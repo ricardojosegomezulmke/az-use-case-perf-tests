{
 "cells": [
  {
   "cell_type": "code",
   "execution_count": 1,
   "metadata": {},
   "outputs": [],
   "source": [
    "import perfmodel\n",
    "import os.path\n",
    "from os import path\n",
    "import json\n",
    "import glob\n",
    "import numpy as np\n",
    "import pandas as pd\n",
    "from jsonpath_ng import jsonpath, parse\n",
    "import matplotlib.pyplot as plt\n",
    "import seaborn as sns\n",
    "import plotly.express as px\n",
    "import plotly.graph_objects as go\n",
    "\n",
    "%matplotlib inline\n",
    "#global defaults of graphics size\n",
    "plt.rcParams[\"figure.figsize\"] = [50, 50]\n",
    "\n",
    "#point to test result folder containing runs\n",
    "location = perfmodel.RunResultLocation(\"../testresults/azure.1-auto-standalone\")\n",
    "runDefinition = perfmodel.RunDefinition(location)\n",
    "runDefinition.process_run_samples()\n",
    "sample = runDefinition.find_sample(\"2020-10-23-15-59-41\",perfmodel.c_sample_metric_type_latency_node, 4)\n",
    "\n",
    "df_latencies = pd.DataFrame(sample.export_all_metrics())\n",
    "df_distinct_latencies = pd.DataFrame(data={\"latency\": sample.export_distinct_latencies()})\n",
    "#df_latencies\n"
   ]
  },
  {
   "cell_type": "markdown",
   "metadata": {
    "pycharm": {
     "name": "#%% md\n"
    }
   },
   "source": [
    "# Distinct Sample Analytics"
   ]
  },
  {
   "cell_type": "markdown",
   "metadata": {},
   "source": [
    "### SDKPerf calculated metrics"
   ]
  },
  {
   "cell_type": "code",
   "execution_count": 2,
   "metadata": {
    "pycharm": {
     "name": "#%%\n"
    }
   },
   "outputs": [
    {
     "data": {
      "text/html": [
       "<div>\n",
       "<style scoped>\n",
       "    .dataframe tbody tr th:only-of-type {\n",
       "        vertical-align: middle;\n",
       "    }\n",
       "\n",
       "    .dataframe tbody tr th {\n",
       "        vertical-align: top;\n",
       "    }\n",
       "\n",
       "    .dataframe thead th {\n",
       "        text-align: right;\n",
       "    }\n",
       "</style>\n",
       "<table border=\"1\" class=\"dataframe\">\n",
       "  <thead>\n",
       "    <tr style=\"text-align: right;\">\n",
       "      <th></th>\n",
       "      <th>provider</th>\n",
       "      <th>infrastructure</th>\n",
       "      <th>run_id</th>\n",
       "      <th>ts</th>\n",
       "      <th>sample_num</th>\n",
       "      <th>metric</th>\n",
       "      <th>value</th>\n",
       "    </tr>\n",
       "  </thead>\n",
       "  <tbody>\n",
       "    <tr>\n",
       "      <th>0</th>\n",
       "      <td>azure</td>\n",
       "      <td>azure.1-auto-standalone</td>\n",
       "      <td>2020-10-23-15-59-41</td>\n",
       "      <td>2020-10-23 17:04:39.010</td>\n",
       "      <td>4</td>\n",
       "      <td>50th</td>\n",
       "      <td>182.00</td>\n",
       "    </tr>\n",
       "    <tr>\n",
       "      <th>1</th>\n",
       "      <td>azure</td>\n",
       "      <td>azure.1-auto-standalone</td>\n",
       "      <td>2020-10-23-15-59-41</td>\n",
       "      <td>2020-10-23 17:04:39.010</td>\n",
       "      <td>4</td>\n",
       "      <td>95th</td>\n",
       "      <td>219.00</td>\n",
       "    </tr>\n",
       "    <tr>\n",
       "      <th>2</th>\n",
       "      <td>azure</td>\n",
       "      <td>azure.1-auto-standalone</td>\n",
       "      <td>2020-10-23-15-59-41</td>\n",
       "      <td>2020-10-23 17:04:39.010</td>\n",
       "      <td>4</td>\n",
       "      <td>99th</td>\n",
       "      <td>937.00</td>\n",
       "    </tr>\n",
       "    <tr>\n",
       "      <th>3</th>\n",
       "      <td>azure</td>\n",
       "      <td>azure.1-auto-standalone</td>\n",
       "      <td>2020-10-23-15-59-41</td>\n",
       "      <td>2020-10-23 17:04:39.010</td>\n",
       "      <td>4</td>\n",
       "      <td>99_9th</td>\n",
       "      <td>8005.00</td>\n",
       "    </tr>\n",
       "    <tr>\n",
       "      <th>4</th>\n",
       "      <td>azure</td>\n",
       "      <td>azure.1-auto-standalone</td>\n",
       "      <td>2020-10-23-15-59-41</td>\n",
       "      <td>2020-10-23 17:04:39.010</td>\n",
       "      <td>4</td>\n",
       "      <td>average</td>\n",
       "      <td>213.00</td>\n",
       "    </tr>\n",
       "    <tr>\n",
       "      <th>5</th>\n",
       "      <td>azure</td>\n",
       "      <td>azure.1-auto-standalone</td>\n",
       "      <td>2020-10-23-15-59-41</td>\n",
       "      <td>2020-10-23 17:04:39.010</td>\n",
       "      <td>4</td>\n",
       "      <td>maximum</td>\n",
       "      <td>19032.00</td>\n",
       "    </tr>\n",
       "    <tr>\n",
       "      <th>6</th>\n",
       "      <td>azure</td>\n",
       "      <td>azure.1-auto-standalone</td>\n",
       "      <td>2020-10-23-15-59-41</td>\n",
       "      <td>2020-10-23 17:04:39.010</td>\n",
       "      <td>4</td>\n",
       "      <td>minimum</td>\n",
       "      <td>148.00</td>\n",
       "    </tr>\n",
       "    <tr>\n",
       "      <th>7</th>\n",
       "      <td>azure</td>\n",
       "      <td>azure.1-auto-standalone</td>\n",
       "      <td>2020-10-23-15-59-41</td>\n",
       "      <td>2020-10-23 17:04:39.010</td>\n",
       "      <td>4</td>\n",
       "      <td>std_deviation</td>\n",
       "      <td>476.66</td>\n",
       "    </tr>\n",
       "  </tbody>\n",
       "</table>\n",
       "</div>"
      ],
      "text/plain": [
       "  provider           infrastructure               run_id  \\\n",
       "0    azure  azure.1-auto-standalone  2020-10-23-15-59-41   \n",
       "1    azure  azure.1-auto-standalone  2020-10-23-15-59-41   \n",
       "2    azure  azure.1-auto-standalone  2020-10-23-15-59-41   \n",
       "3    azure  azure.1-auto-standalone  2020-10-23-15-59-41   \n",
       "4    azure  azure.1-auto-standalone  2020-10-23-15-59-41   \n",
       "5    azure  azure.1-auto-standalone  2020-10-23-15-59-41   \n",
       "6    azure  azure.1-auto-standalone  2020-10-23-15-59-41   \n",
       "7    azure  azure.1-auto-standalone  2020-10-23-15-59-41   \n",
       "\n",
       "                       ts  sample_num         metric     value  \n",
       "0 2020-10-23 17:04:39.010           4           50th    182.00  \n",
       "1 2020-10-23 17:04:39.010           4           95th    219.00  \n",
       "2 2020-10-23 17:04:39.010           4           99th    937.00  \n",
       "3 2020-10-23 17:04:39.010           4         99_9th   8005.00  \n",
       "4 2020-10-23 17:04:39.010           4        average    213.00  \n",
       "5 2020-10-23 17:04:39.010           4        maximum  19032.00  \n",
       "6 2020-10-23 17:04:39.010           4        minimum    148.00  \n",
       "7 2020-10-23 17:04:39.010           4  std_deviation    476.66  "
      ]
     },
     "execution_count": 2,
     "metadata": {},
     "output_type": "execute_result"
    }
   ],
   "source": [
    "df_latencies\n"
   ]
  },
  {
   "cell_type": "markdown",
   "metadata": {},
   "source": [
    "### Key metrics based on distinct latencies within sample"
   ]
  },
  {
   "cell_type": "code",
   "execution_count": 3,
   "metadata": {},
   "outputs": [
    {
     "data": {
      "text/plain": [
       "count    40000.000000\n",
       "mean       209.191300\n",
       "std        430.521437\n",
       "min        146.000000\n",
       "25%        166.000000\n",
       "50%        170.000000\n",
       "75%        177.000000\n",
       "max      19032.000000\n",
       "Name: latency, dtype: float64"
      ]
     },
     "execution_count": 3,
     "metadata": {},
     "output_type": "execute_result"
    }
   ],
   "source": [
    "df_distinct_latencies['latency'].describe()"
   ]
  },
  {
   "cell_type": "markdown",
   "metadata": {},
   "source": [
    "### Quantiles based on distinct latencies within sample"
   ]
  },
  {
   "cell_type": "code",
   "execution_count": 4,
   "metadata": {},
   "outputs": [
    {
     "data": {
      "text/plain": [
       "0.05000      161.00000\n",
       "0.10000      163.00000\n",
       "0.25000      166.00000\n",
       "0.50000      170.00000\n",
       "0.75000      177.00000\n",
       "0.90000      190.00000\n",
       "0.95000      221.00000\n",
       "0.99000      825.04000\n",
       "0.99500     2183.01000\n",
       "0.99900     7127.09900\n",
       "0.99990    15040.09990\n",
       "0.99999    18634.40994\n",
       "Name: latency, dtype: float64"
      ]
     },
     "execution_count": 4,
     "metadata": {},
     "output_type": "execute_result"
    }
   ],
   "source": [
    "q1 = df_distinct_latencies['latency'].quantile(q=[0.05,0.1,0.25,0.5,0.75,0.9,0.95,0.99,0.995,0.999,0.9999,0.99999])\n",
    "q1\n",
    " "
   ]
  },
  {
   "cell_type": "code",
   "execution_count": null,
   "metadata": {
    "pycharm": {
     "name": "#%%\n"
    }
   },
   "outputs": [],
   "source": []
  },
  {
   "cell_type": "code",
   "execution_count": null,
   "metadata": {
    "pycharm": {
     "name": "#%%\n"
    }
   },
   "outputs": [],
   "source": []
  }
 ],
 "metadata": {
  "kernelspec": {
   "display_name": "Python 3",
   "language": "python",
   "name": "python3"
  },
  "language_info": {
   "codemirror_mode": {
    "name": "ipython",
    "version": 3
   },
   "file_extension": ".py",
   "mimetype": "text/x-python",
   "name": "python",
   "nbconvert_exporter": "python",
   "pygments_lexer": "ipython3",
   "version": "3.8.5"
  }
 },
 "nbformat": 4,
 "nbformat_minor": 4
}
