{
 "cells": [
  {
   "cell_type": "code",
   "execution_count": null,
   "metadata": {},
   "outputs": [],
   "source": [
    "import perfmodel\n",
    "import os.path\n",
    "from os import path\n",
    "import json\n",
    "import glob\n",
    "import numpy as np\n",
    "import pandas as pd\n",
    "from jsonpath_ng import jsonpath, parse\n",
    "import matplotlib.pyplot as plt\n",
    "import seaborn as sns\n",
    "import plotly.express as px\n",
    "import plotly.graph_objects as go\n",
    "\n",
    "%matplotlib inline\n",
    "#global defaults of graphics size\n",
    "plt.rcParams[\"figure.figsize\"] = [50, 50]\n",
    "\n",
    "#point to test result folder containing runs\n",
    "location = perfmodel.RunResultLocation(\"../testresults/azure.1-auto-standalone\")\n",
    "runDefinition = perfmodel.RunDefinition(location)\n",
    "runDefinition.process_run_samples()\n",
    "sample = runDefinition.find_sample(\"2020-10-23-15-59-41\",perfmodel.c_sample_metric_type_latency_node, 4)\n",
    "\n",
    "df_latencies = pd.DataFrame(sample.export_all_metrics())\n",
    "df_distinct_latencies = pd.DataFrame(data={\"latency\": sample.export_distinct_latencies()})\n",
    "#df_latencies\n"
   ]
  },
  {
   "cell_type": "markdown",
   "metadata": {
    "pycharm": {
     "name": "#%% md\n"
    }
   },
   "source": [
    "# Distinct Sample Analytics"
   ]
  },
  {
   "cell_type": "markdown",
   "source": [
    "### SDKPerf calculated metrics"
   ],
   "metadata": {
    "collapsed": false
   }
  },
  {
   "cell_type": "code",
   "execution_count": null,
   "metadata": {
    "pycharm": {
     "name": "#%%\n"
    }
   },
   "outputs": [],
   "source": [
    "df_latencies\n"
   ]
  },
  {
   "cell_type": "markdown",
   "source": [
    "### Key metrics based on distinct latencies within sample"
   ],
   "metadata": {
    "collapsed": false
   }
  },
  {
   "cell_type": "code",
   "execution_count": null,
   "metadata": {},
   "outputs": [],
   "source": [
    "df_distinct_latencies['latency'].describe()"
   ]
  },
  {
   "cell_type": "markdown",
   "source": [
    "### Quantiles based on distinct latencies within sample"
   ],
   "metadata": {
    "collapsed": false
   }
  },
  {
   "cell_type": "code",
   "execution_count": null,
   "metadata": {},
   "outputs": [],
   "source": [
    "q1 = df_distinct_latencies['latency'].quantile(q=[0.05,0.1,0.25,0.5,0.75,0.9,0.95,0.99,0.995,0.999,0.9999,0.99999])\n",
    "q1\n",
    " "
   ]
  },
  {
   "cell_type": "code",
   "execution_count": null,
   "outputs": [],
   "source": [],
   "metadata": {
    "collapsed": false,
    "pycharm": {
     "name": "#%%\n"
    }
   }
  },
  {
   "cell_type": "code",
   "execution_count": null,
   "outputs": [],
   "source": [],
   "metadata": {
    "collapsed": false,
    "pycharm": {
     "name": "#%%\n"
    }
   }
  }
 ],
 "metadata": {
  "kernelspec": {
   "display_name": "Python 3",
   "language": "python",
   "name": "python3"
  },
  "language_info": {
   "codemirror_mode": {
    "name": "ipython",
    "version": 3
   },
   "file_extension": ".py",
   "mimetype": "text/x-python",
   "name": "python",
   "nbconvert_exporter": "python",
   "pygments_lexer": "ipython3",
   "version": "3.8.5"
  }
 },
 "nbformat": 4,
 "nbformat_minor": 4
}